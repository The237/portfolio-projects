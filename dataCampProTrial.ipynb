{
 "cells": [
  {
   "cell_type": "markdown",
   "metadata": {},
   "source": [
    "# Data Scientist Professional\n",
    "## Practical Exam Solution\n"
   ]
  },
  {
   "cell_type": "markdown",
   "metadata": {},
   "source": [
    "## Data Validation\n",
    "This dataset has 947 rows, 8 columns. I have validated all variables and i have made some changes for columns that were not as described in the data dictionary.\n",
    "\n",
    "- recipe : without missing values. No cleaning is needed.\n",
    "- calories : 50+ missing values, his variation coefficient was more than 25%, so i replace na with the median.\n",
    "- carbohydrate : 50+ missing values, his variation coefficient was more than 25%, so i replace na with the median.\n",
    "- sugar : 50+ missing values, his variation coefficient was more than 25%, so i replace na with the median.\n",
    "- protein : 50+ missing values, his variation coefficient was more than 25%, so i replace na with the median.\n",
    "- category : instead of 10 groups there was 11, so we replaced this modality ('Chicken Breast') by 'Chicken'.\n",
    "- servings : without missing values, but the column was not numerical as expected and some values had the string \" as a snack\", so we removed that string and convert \"servings\" into int.\n",
    "- high_traffic : that column had 300 + missing values, we had assumed that the were referring to \"Non High\" traffic recipes, and replace the na by \"Not High\".\n",
    "We dropped the recipe number column, because it's not usefull for the analysis. Finaly our dataset has 947 rows, 7 columns."
   ]
  },
  {
   "cell_type": "code",
   "execution_count": 220,
   "metadata": {},
   "outputs": [],
   "source": [
    "# import all the librairies\n",
    "import pandas as pd\n",
    "import numpy as np\n",
    "import matplotlib.pyplot as plt\n",
    "import matplotlib.style as style\n",
    "import seaborn as sns\n",
    "import pingouin as pg\n",
    "from scipy.stats import chi2_contingency\n",
    "from sklearn.preprocessing import PowerTransformer\n",
    "from sklearn.preprocessing import LabelEncoder\n",
    "from sklearn.tree import DecisionTreeClassifier\n",
    "from sklearn.neighbors import KNeighborsClassifier as KNN\n",
    "from sklearn.metrics import accuracy_score,classification_report, confusion_matrix, precision_score\n",
    "from sklearn.model_selection import train_test_split\n",
    "from sklearn.preprocessing import LabelEncoder\n",
    "from sklearn.ensemble import RandomForestClassifier\n",
    "\n",
    "# import warnings filter\n",
    "from warnings import simplefilter\n",
    "# ignore all future warnings\n",
    "simplefilter(action='ignore', category=FutureWarning)\n",
    "# set the seed for future usages\n",
    "SEED  = 42\n",
    "# define the plot style to use\n",
    "style.use('ggplot')"
   ]
  },
  {
   "cell_type": "code",
   "execution_count": 221,
   "metadata": {},
   "outputs": [
    {
     "name": "stdout",
     "output_type": "stream",
     "text": [
      "<class 'pandas.core.frame.DataFrame'>\n",
      "RangeIndex: 947 entries, 0 to 946\n",
      "Data columns (total 8 columns):\n",
      " #   Column        Non-Null Count  Dtype  \n",
      "---  ------        --------------  -----  \n",
      " 0   recipe        947 non-null    int64  \n",
      " 1   calories      895 non-null    float64\n",
      " 2   carbohydrate  895 non-null    float64\n",
      " 3   sugar         895 non-null    float64\n",
      " 4   protein       895 non-null    float64\n",
      " 5   category      947 non-null    object \n",
      " 6   servings      947 non-null    object \n",
      " 7   high_traffic  574 non-null    object \n",
      "dtypes: float64(4), int64(1), object(3)\n",
      "memory usage: 59.3+ KB\n"
     ]
    }
   ],
   "source": [
    "df = pd.read_csv('data/recipe_site_traffic_2212.csv')\n",
    "df.info()"
   ]
  },
  {
   "cell_type": "code",
   "execution_count": 222,
   "metadata": {
    "scrolled": true
   },
   "outputs": [
    {
     "data": {
      "text/html": [
       "<div>\n",
       "<style scoped>\n",
       "    .dataframe tbody tr th:only-of-type {\n",
       "        vertical-align: middle;\n",
       "    }\n",
       "\n",
       "    .dataframe tbody tr th {\n",
       "        vertical-align: top;\n",
       "    }\n",
       "\n",
       "    .dataframe thead th {\n",
       "        text-align: right;\n",
       "    }\n",
       "</style>\n",
       "<table border=\"1\" class=\"dataframe\">\n",
       "  <thead>\n",
       "    <tr style=\"text-align: right;\">\n",
       "      <th></th>\n",
       "      <th>recipe</th>\n",
       "      <th>calories</th>\n",
       "      <th>carbohydrate</th>\n",
       "      <th>sugar</th>\n",
       "      <th>protein</th>\n",
       "      <th>category</th>\n",
       "      <th>servings</th>\n",
       "      <th>high_traffic</th>\n",
       "    </tr>\n",
       "  </thead>\n",
       "  <tbody>\n",
       "    <tr>\n",
       "      <th>0</th>\n",
       "      <td>1</td>\n",
       "      <td>NaN</td>\n",
       "      <td>NaN</td>\n",
       "      <td>NaN</td>\n",
       "      <td>NaN</td>\n",
       "      <td>Pork</td>\n",
       "      <td>6</td>\n",
       "      <td>High</td>\n",
       "    </tr>\n",
       "    <tr>\n",
       "      <th>1</th>\n",
       "      <td>2</td>\n",
       "      <td>35.48</td>\n",
       "      <td>38.56</td>\n",
       "      <td>0.66</td>\n",
       "      <td>0.92</td>\n",
       "      <td>Potato</td>\n",
       "      <td>4</td>\n",
       "      <td>High</td>\n",
       "    </tr>\n",
       "    <tr>\n",
       "      <th>2</th>\n",
       "      <td>3</td>\n",
       "      <td>914.28</td>\n",
       "      <td>42.68</td>\n",
       "      <td>3.09</td>\n",
       "      <td>2.88</td>\n",
       "      <td>Breakfast</td>\n",
       "      <td>1</td>\n",
       "      <td>NaN</td>\n",
       "    </tr>\n",
       "    <tr>\n",
       "      <th>3</th>\n",
       "      <td>4</td>\n",
       "      <td>97.03</td>\n",
       "      <td>30.56</td>\n",
       "      <td>38.63</td>\n",
       "      <td>0.02</td>\n",
       "      <td>Beverages</td>\n",
       "      <td>4</td>\n",
       "      <td>High</td>\n",
       "    </tr>\n",
       "    <tr>\n",
       "      <th>4</th>\n",
       "      <td>5</td>\n",
       "      <td>27.05</td>\n",
       "      <td>1.85</td>\n",
       "      <td>0.80</td>\n",
       "      <td>0.53</td>\n",
       "      <td>Beverages</td>\n",
       "      <td>4</td>\n",
       "      <td>NaN</td>\n",
       "    </tr>\n",
       "  </tbody>\n",
       "</table>\n",
       "</div>"
      ],
      "text/plain": [
       "   recipe  calories  carbohydrate  sugar  protein   category servings  \\\n",
       "0       1       NaN           NaN    NaN      NaN       Pork        6   \n",
       "1       2     35.48         38.56   0.66     0.92     Potato        4   \n",
       "2       3    914.28         42.68   3.09     2.88  Breakfast        1   \n",
       "3       4     97.03         30.56  38.63     0.02  Beverages        4   \n",
       "4       5     27.05          1.85   0.80     0.53  Beverages        4   \n",
       "\n",
       "  high_traffic  \n",
       "0         High  \n",
       "1         High  \n",
       "2          NaN  \n",
       "3         High  \n",
       "4          NaN  "
      ]
     },
     "execution_count": 222,
     "metadata": {},
     "output_type": "execute_result"
    }
   ],
   "source": [
    "df.head()"
   ]
  },
  {
   "cell_type": "code",
   "execution_count": 223,
   "metadata": {},
   "outputs": [],
   "source": [
    "# we need to define a function to calculate the variation coefficient for numerical variables (in percent)\n",
    "cv = lambda x:np.std(x,ddof = 1) / np.mean(x) *100 "
   ]
  },
  {
   "cell_type": "code",
   "execution_count": 224,
   "metadata": {},
   "outputs": [
    {
     "data": {
      "text/plain": [
       "calories        103.918391\n",
       "carbohydrate    125.319185\n",
       "sugar           162.262740\n",
       "protein         150.603721\n",
       "dtype: float64"
      ]
     },
     "execution_count": 224,
     "metadata": {},
     "output_type": "execute_result"
    }
   ],
   "source": [
    "# calculate variation coefficient for variables which have na\n",
    "df[[\"calories\",\"carbohydrate\",\"sugar\",\"protein\"]].apply(cv)"
   ]
  },
  {
   "cell_type": "code",
   "execution_count": 225,
   "metadata": {},
   "outputs": [],
   "source": [
    "# all the numerical variables with na have a cv greater than 25% , so we need to replace na with the median\n",
    "def replace_missing_with_median(df, cols):\n",
    "    for col in cols:\n",
    "        median = df[col].median()\n",
    "        df[col] = df[col].apply(lambda x: median if pd.isna(x) else x)\n",
    "    return df"
   ]
  },
  {
   "cell_type": "code",
   "execution_count": 226,
   "metadata": {},
   "outputs": [],
   "source": [
    "# apply our function to df\n",
    "df = replace_missing_with_median(df, [\"calories\",\"carbohydrate\",\"sugar\",\"protein\"])"
   ]
  },
  {
   "cell_type": "code",
   "execution_count": 227,
   "metadata": {},
   "outputs": [
    {
     "data": {
      "text/html": [
       "<div>\n",
       "<style scoped>\n",
       "    .dataframe tbody tr th:only-of-type {\n",
       "        vertical-align: middle;\n",
       "    }\n",
       "\n",
       "    .dataframe tbody tr th {\n",
       "        vertical-align: top;\n",
       "    }\n",
       "\n",
       "    .dataframe thead th {\n",
       "        text-align: right;\n",
       "    }\n",
       "</style>\n",
       "<table border=\"1\" class=\"dataframe\">\n",
       "  <thead>\n",
       "    <tr style=\"text-align: right;\">\n",
       "      <th></th>\n",
       "      <th>recipe</th>\n",
       "      <th>calories</th>\n",
       "      <th>carbohydrate</th>\n",
       "      <th>sugar</th>\n",
       "      <th>protein</th>\n",
       "    </tr>\n",
       "  </thead>\n",
       "  <tbody>\n",
       "    <tr>\n",
       "      <th>count</th>\n",
       "      <td>947.000000</td>\n",
       "      <td>947.000000</td>\n",
       "      <td>947.000000</td>\n",
       "      <td>947.000000</td>\n",
       "      <td>947.000000</td>\n",
       "    </tr>\n",
       "    <tr>\n",
       "      <th>mean</th>\n",
       "      <td>474.000000</td>\n",
       "      <td>427.846019</td>\n",
       "      <td>34.323464</td>\n",
       "      <td>8.799641</td>\n",
       "      <td>23.416283</td>\n",
       "    </tr>\n",
       "    <tr>\n",
       "      <th>std</th>\n",
       "      <td>273.519652</td>\n",
       "      <td>441.673556</td>\n",
       "      <td>42.836191</td>\n",
       "      <td>14.306785</td>\n",
       "      <td>35.486699</td>\n",
       "    </tr>\n",
       "    <tr>\n",
       "      <th>min</th>\n",
       "      <td>1.000000</td>\n",
       "      <td>0.140000</td>\n",
       "      <td>0.030000</td>\n",
       "      <td>0.010000</td>\n",
       "      <td>0.000000</td>\n",
       "    </tr>\n",
       "    <tr>\n",
       "      <th>25%</th>\n",
       "      <td>237.500000</td>\n",
       "      <td>114.410000</td>\n",
       "      <td>9.135000</td>\n",
       "      <td>1.795000</td>\n",
       "      <td>3.465000</td>\n",
       "    </tr>\n",
       "    <tr>\n",
       "      <th>50%</th>\n",
       "      <td>474.000000</td>\n",
       "      <td>288.550000</td>\n",
       "      <td>21.480000</td>\n",
       "      <td>4.550000</td>\n",
       "      <td>10.800000</td>\n",
       "    </tr>\n",
       "    <tr>\n",
       "      <th>75%</th>\n",
       "      <td>710.500000</td>\n",
       "      <td>576.225000</td>\n",
       "      <td>42.590000</td>\n",
       "      <td>9.285000</td>\n",
       "      <td>28.530000</td>\n",
       "    </tr>\n",
       "    <tr>\n",
       "      <th>max</th>\n",
       "      <td>947.000000</td>\n",
       "      <td>3633.160000</td>\n",
       "      <td>530.420000</td>\n",
       "      <td>148.750000</td>\n",
       "      <td>363.360000</td>\n",
       "    </tr>\n",
       "  </tbody>\n",
       "</table>\n",
       "</div>"
      ],
      "text/plain": [
       "           recipe     calories  carbohydrate       sugar     protein\n",
       "count  947.000000   947.000000    947.000000  947.000000  947.000000\n",
       "mean   474.000000   427.846019     34.323464    8.799641   23.416283\n",
       "std    273.519652   441.673556     42.836191   14.306785   35.486699\n",
       "min      1.000000     0.140000      0.030000    0.010000    0.000000\n",
       "25%    237.500000   114.410000      9.135000    1.795000    3.465000\n",
       "50%    474.000000   288.550000     21.480000    4.550000   10.800000\n",
       "75%    710.500000   576.225000     42.590000    9.285000   28.530000\n",
       "max    947.000000  3633.160000    530.420000  148.750000  363.360000"
      ]
     },
     "execution_count": 227,
     "metadata": {},
     "output_type": "execute_result"
    }
   ],
   "source": [
    "# verify the result\n",
    "df.describe()"
   ]
  },
  {
   "cell_type": "code",
   "execution_count": 228,
   "metadata": {},
   "outputs": [
    {
     "data": {
      "text/plain": [
       "{'1', '2', '4', '4 as a snack', '6', '6 as a snack'}"
      ]
     },
     "execution_count": 228,
     "metadata": {},
     "output_type": "execute_result"
    }
   ],
   "source": [
    "# the servings col does not have any missing values but we need to clean it \n",
    "# in order to remove the string \"as a snack\" and convert it into numerical\n",
    "set(df[\"servings\"])"
   ]
  },
  {
   "cell_type": "code",
   "execution_count": 229,
   "metadata": {},
   "outputs": [],
   "source": [
    "# clean and convert the column servings to int \n",
    "df[\"servings\"] = df[\"servings\"].str.replace(\" as a snack\",\"\").astype(int)"
   ]
  },
  {
   "cell_type": "code",
   "execution_count": 230,
   "metadata": {},
   "outputs": [
    {
     "data": {
      "text/html": [
       "<div>\n",
       "<style scoped>\n",
       "    .dataframe tbody tr th:only-of-type {\n",
       "        vertical-align: middle;\n",
       "    }\n",
       "\n",
       "    .dataframe tbody tr th {\n",
       "        vertical-align: top;\n",
       "    }\n",
       "\n",
       "    .dataframe thead th {\n",
       "        text-align: right;\n",
       "    }\n",
       "</style>\n",
       "<table border=\"1\" class=\"dataframe\">\n",
       "  <thead>\n",
       "    <tr style=\"text-align: right;\">\n",
       "      <th></th>\n",
       "      <th>recipe</th>\n",
       "      <th>calories</th>\n",
       "      <th>carbohydrate</th>\n",
       "      <th>sugar</th>\n",
       "      <th>protein</th>\n",
       "      <th>servings</th>\n",
       "    </tr>\n",
       "  </thead>\n",
       "  <tbody>\n",
       "    <tr>\n",
       "      <th>count</th>\n",
       "      <td>947.000000</td>\n",
       "      <td>947.000000</td>\n",
       "      <td>947.000000</td>\n",
       "      <td>947.000000</td>\n",
       "      <td>947.000000</td>\n",
       "      <td>947.000000</td>\n",
       "    </tr>\n",
       "    <tr>\n",
       "      <th>mean</th>\n",
       "      <td>474.000000</td>\n",
       "      <td>427.846019</td>\n",
       "      <td>34.323464</td>\n",
       "      <td>8.799641</td>\n",
       "      <td>23.416283</td>\n",
       "      <td>3.477297</td>\n",
       "    </tr>\n",
       "    <tr>\n",
       "      <th>std</th>\n",
       "      <td>273.519652</td>\n",
       "      <td>441.673556</td>\n",
       "      <td>42.836191</td>\n",
       "      <td>14.306785</td>\n",
       "      <td>35.486699</td>\n",
       "      <td>1.732741</td>\n",
       "    </tr>\n",
       "    <tr>\n",
       "      <th>min</th>\n",
       "      <td>1.000000</td>\n",
       "      <td>0.140000</td>\n",
       "      <td>0.030000</td>\n",
       "      <td>0.010000</td>\n",
       "      <td>0.000000</td>\n",
       "      <td>1.000000</td>\n",
       "    </tr>\n",
       "    <tr>\n",
       "      <th>25%</th>\n",
       "      <td>237.500000</td>\n",
       "      <td>114.410000</td>\n",
       "      <td>9.135000</td>\n",
       "      <td>1.795000</td>\n",
       "      <td>3.465000</td>\n",
       "      <td>2.000000</td>\n",
       "    </tr>\n",
       "    <tr>\n",
       "      <th>50%</th>\n",
       "      <td>474.000000</td>\n",
       "      <td>288.550000</td>\n",
       "      <td>21.480000</td>\n",
       "      <td>4.550000</td>\n",
       "      <td>10.800000</td>\n",
       "      <td>4.000000</td>\n",
       "    </tr>\n",
       "    <tr>\n",
       "      <th>75%</th>\n",
       "      <td>710.500000</td>\n",
       "      <td>576.225000</td>\n",
       "      <td>42.590000</td>\n",
       "      <td>9.285000</td>\n",
       "      <td>28.530000</td>\n",
       "      <td>4.000000</td>\n",
       "    </tr>\n",
       "    <tr>\n",
       "      <th>max</th>\n",
       "      <td>947.000000</td>\n",
       "      <td>3633.160000</td>\n",
       "      <td>530.420000</td>\n",
       "      <td>148.750000</td>\n",
       "      <td>363.360000</td>\n",
       "      <td>6.000000</td>\n",
       "    </tr>\n",
       "  </tbody>\n",
       "</table>\n",
       "</div>"
      ],
      "text/plain": [
       "           recipe     calories  carbohydrate       sugar     protein  \\\n",
       "count  947.000000   947.000000    947.000000  947.000000  947.000000   \n",
       "mean   474.000000   427.846019     34.323464    8.799641   23.416283   \n",
       "std    273.519652   441.673556     42.836191   14.306785   35.486699   \n",
       "min      1.000000     0.140000      0.030000    0.010000    0.000000   \n",
       "25%    237.500000   114.410000      9.135000    1.795000    3.465000   \n",
       "50%    474.000000   288.550000     21.480000    4.550000   10.800000   \n",
       "75%    710.500000   576.225000     42.590000    9.285000   28.530000   \n",
       "max    947.000000  3633.160000    530.420000  148.750000  363.360000   \n",
       "\n",
       "         servings  \n",
       "count  947.000000  \n",
       "mean     3.477297  \n",
       "std      1.732741  \n",
       "min      1.000000  \n",
       "25%      2.000000  \n",
       "50%      4.000000  \n",
       "75%      4.000000  \n",
       "max      6.000000  "
      ]
     },
     "execution_count": 230,
     "metadata": {},
     "output_type": "execute_result"
    }
   ],
   "source": [
    "# verify the result\n",
    "df.describe()"
   ]
  },
  {
   "cell_type": "code",
   "execution_count": 231,
   "metadata": {},
   "outputs": [
    {
     "data": {
      "text/plain": [
       "{'Beverages',\n",
       " 'Breakfast',\n",
       " 'Chicken',\n",
       " 'Chicken Breast',\n",
       " 'Dessert',\n",
       " 'Lunch/Snacks',\n",
       " 'Meat',\n",
       " 'One Dish Meal',\n",
       " 'Pork',\n",
       " 'Potato',\n",
       " 'Vegetable'}"
      ]
     },
     "execution_count": 231,
     "metadata": {},
     "output_type": "execute_result"
    }
   ],
   "source": [
    "# in the category column, we have a supplementary recipe not ten\n",
    "# we need to replace \"Chicken Breast\" by \"Chicken\"\n",
    "set(df[\"category\"])"
   ]
  },
  {
   "cell_type": "code",
   "execution_count": 232,
   "metadata": {},
   "outputs": [],
   "source": [
    "df[\"category\"] = df[\"category\"].str.replace('Chicken Breast','Chicken')"
   ]
  },
  {
   "cell_type": "code",
   "execution_count": 233,
   "metadata": {},
   "outputs": [
    {
     "data": {
      "text/plain": [
       "{'Beverages',\n",
       " 'Breakfast',\n",
       " 'Chicken',\n",
       " 'Dessert',\n",
       " 'Lunch/Snacks',\n",
       " 'Meat',\n",
       " 'One Dish Meal',\n",
       " 'Pork',\n",
       " 'Potato',\n",
       " 'Vegetable'}"
      ]
     },
     "execution_count": 233,
     "metadata": {},
     "output_type": "execute_result"
    }
   ],
   "source": [
    "# verify that we have ten recipes in category\n",
    "set(df[\"category\"])"
   ]
  },
  {
   "cell_type": "code",
   "execution_count": 234,
   "metadata": {},
   "outputs": [],
   "source": [
    "# for the high_trafic colum, we are going to assume that if a recipe high_trafic\n",
    "# is marked as nan , then that recipe does not have a high trafic\n",
    "df.loc[df[\"high_traffic\"].isna(),\"high_traffic\"] = \"Not High\""
   ]
  },
  {
   "cell_type": "code",
   "execution_count": 235,
   "metadata": {},
   "outputs": [
    {
     "data": {
      "text/plain": [
       "{'High', 'Not High'}"
      ]
     },
     "execution_count": 235,
     "metadata": {},
     "output_type": "execute_result"
    }
   ],
   "source": [
    "set(df[\"high_traffic\"])"
   ]
  },
  {
   "cell_type": "code",
   "execution_count": 236,
   "metadata": {},
   "outputs": [],
   "source": [
    "# recode the values of the popularity\n",
    "df[\"high_traffic\"] = [1 if val==\"High\" else 0 for val in df[\"high_traffic\"].values]"
   ]
  },
  {
   "cell_type": "code",
   "execution_count": 237,
   "metadata": {},
   "outputs": [
    {
     "data": {
      "text/plain": [
       "1    0.606125\n",
       "0    0.393875\n",
       "Name: high_traffic, dtype: float64"
      ]
     },
     "execution_count": 237,
     "metadata": {},
     "output_type": "execute_result"
    }
   ],
   "source": [
    "df[\"high_traffic\"].value_counts(normalize=True)"
   ]
  },
  {
   "cell_type": "code",
   "execution_count": 238,
   "metadata": {},
   "outputs": [
    {
     "name": "stdout",
     "output_type": "stream",
     "text": [
      "<class 'pandas.core.frame.DataFrame'>\n",
      "RangeIndex: 947 entries, 0 to 946\n",
      "Data columns (total 8 columns):\n",
      " #   Column        Non-Null Count  Dtype  \n",
      "---  ------        --------------  -----  \n",
      " 0   recipe        947 non-null    int64  \n",
      " 1   calories      947 non-null    float64\n",
      " 2   carbohydrate  947 non-null    float64\n",
      " 3   sugar         947 non-null    float64\n",
      " 4   protein       947 non-null    float64\n",
      " 5   category      947 non-null    object \n",
      " 6   servings      947 non-null    int32  \n",
      " 7   high_traffic  947 non-null    int64  \n",
      "dtypes: float64(4), int32(1), int64(2), object(1)\n",
      "memory usage: 55.6+ KB\n"
     ]
    }
   ],
   "source": [
    "# get a final overview of data after cleaning\n",
    "df.info()"
   ]
  },
  {
   "cell_type": "code",
   "execution_count": 239,
   "metadata": {},
   "outputs": [],
   "source": [
    "df.drop(columns=[\"recipe\"], axis = 1,inplace = True)"
   ]
  },
  {
   "cell_type": "markdown",
   "metadata": {},
   "source": [
    "## Exploratory Analysis\n",
    "\n",
    "I have investigated the target variable, features of a recipe, and the relationship between target variable and features. "
   ]
  },
  {
   "cell_type": "markdown",
   "metadata": {},
   "source": [
    "### Target Variable - High Trafic"
   ]
  },
  {
   "cell_type": "code",
   "execution_count": 240,
   "metadata": {},
   "outputs": [
    {
     "data": {
      "image/png": "[encoded data removed]",
      "text/plain": [
       "<Figure size 432x288 with 1 Axes>"
      ]
     },
     "metadata": {},
     "output_type": "display_data"
    }
   ],
   "source": [
    "sns.countplot(x = df[\"high_traffic\"]).set(title=\"Graph 1 : The count of traffics\")\n",
    "plt.xlabel(\"Trafic\")\n",
    "plt.ylabel(\"Count\")\n",
    "plt.show()"
   ]
  },
  {
   "cell_type": "markdown",
   "metadata": {},
   "source": [
    "As shown in **Graph 1 : The count of traffics**, the most number of traffics are High. The \"High\" class is not significantly larger that the \"Not High\" so, we can conclude that the observations are balanced accross the two cateories."
   ]
  },
  {
   "cell_type": "code",
   "execution_count": 248,
   "metadata": {},
   "outputs": [
    {
     "data": {
      "image/png": "[encoded data removed]",
      "text/plain": [
       "<Figure size 1440x540 with 3 Axes>"
      ]
     },
     "metadata": {},
     "output_type": "display_data"
    }
   ],
   "source": [
    "# distribution of calories, carbohydrate and sugar\n",
    "fig, axes = plt.subplots(1,3,figsize=(20,7.5))\n",
    "sns.histplot(df['calories'], ax=axes[0]).set(title='The Distribution of calories')\n",
    "sns.histplot(df['carbohydrate'],log_scale=True, ax=axes[1]).set(title='The Distribution of carbohydrate');\n",
    "sns.histplot(df['sugar'],log_scale=True, ax=axes[2]).set(title='The Distribution of sugar');"
   ]
  },
  {
   "cell_type": "code",
   "execution_count": 250,
   "metadata": {},
   "outputs": [
    {
     "data": {
      "image/png": "[encoded data removed]",
      "text/plain": [
       "<Figure size 1440x540 with 2 Axes>"
      ]
     },
     "metadata": {},
     "output_type": "display_data"
    }
   ],
   "source": [
    "# distribution of protein, servings\n",
    "fig, axes = plt.subplots(1,2,figsize=(20,7.5))\n",
    "sns.histplot(df['protein'],ax=axes[0]).set(title='The Distribution of protein')\n",
    "sns.histplot(df['servings'],log_scale=True, ax=axes[1]).set(title='The Distribution of servings');"
   ]
  },
  {
   "cell_type": "markdown",
   "metadata": {},
   "source": [
    "### Numeric Variables : calories, carbohydrate, sugar, protein, servings"
   ]
  },
  {
   "cell_type": "markdown",
   "metadata": {},
   "source": [
    "From the heatmap below, we can conclude that there is a moderate linear relationship between protein and calories."
   ]
  },
  {
   "cell_type": "code",
   "execution_count": 251,
   "metadata": {},
   "outputs": [
    {
     "data": {
      "image/png": "[encoded data removed]",
      "text/plain": [
       "<Figure size 432x288 with 2 Axes>"
      ]
     },
     "metadata": {},
     "output_type": "display_data"
    }
   ],
   "source": [
    "numeric = df[[\"calories\",\"carbohydrate\",\"sugar\",\"protein\",\"servings\"]]\n",
    "sns.heatmap(numeric.corr(), annot=True).set(title = 'Graph 3 : The Correlation Heatmap between Numeric Variables');"
   ]
  },
  {
   "cell_type": "markdown",
   "metadata": {},
   "source": [
    "### Numeric Variables : category\n",
    "\n",
    "From the chart below, the most frequents recipes in the dataset are firstly from Chicken and secondly from Breakfast."
   ]
  },
  {
   "cell_type": "code",
   "execution_count": 272,
   "metadata": {},
   "outputs": [
    {
     "data": {
      "image/png": "[encoded data removed]",
      "text/plain": [
       "<Figure size 432x288 with 1 Axes>"
      ]
     },
     "metadata": {},
     "output_type": "display_data"
    }
   ],
   "source": [
    "sns.countplot(x=df[\"category\"]).set(title=\"Graph 2 : Count of recipes categories\");\n",
    "plt.xlabel(\"Categories\");\n",
    "plt.xticks(rotation = 90);"
   ]
  },
  {
   "cell_type": "markdown",
   "metadata": {},
   "source": [
    "#### Normality tests for numerical variables : calories, carbohydrate, sugar, protein, servings\n",
    "\n",
    "The signifiance threshold that we have set is 5%."
   ]
  },
  {
   "cell_type": "markdown",
   "metadata": {},
   "source": [
    "Numerical variables are not normaly distributed. So parametric tests like T-tests for mean comparison are not indicated here. So we are going to make usage of Kruskal-Wallis test to check wether a given numerical variable influences the target."
   ]
  },
  {
   "cell_type": "code",
   "execution_count": 252,
   "metadata": {},
   "outputs": [
    {
     "data": {
      "text/html": [
       "<div>\n",
       "<style scoped>\n",
       "    .dataframe tbody tr th:only-of-type {\n",
       "        vertical-align: middle;\n",
       "    }\n",
       "\n",
       "    .dataframe tbody tr th {\n",
       "        vertical-align: top;\n",
       "    }\n",
       "\n",
       "    .dataframe thead th {\n",
       "        text-align: right;\n",
       "    }\n",
       "</style>\n",
       "<table border=\"1\" class=\"dataframe\">\n",
       "  <thead>\n",
       "    <tr style=\"text-align: right;\">\n",
       "      <th></th>\n",
       "      <th>W</th>\n",
       "      <th>pval</th>\n",
       "      <th>normal</th>\n",
       "    </tr>\n",
       "  </thead>\n",
       "  <tbody>\n",
       "    <tr>\n",
       "      <th>calories</th>\n",
       "      <td>0.797992</td>\n",
       "      <td>1.015775e-32</td>\n",
       "      <td>False</td>\n",
       "    </tr>\n",
       "  </tbody>\n",
       "</table>\n",
       "</div>"
      ],
      "text/plain": [
       "                 W          pval  normal\n",
       "calories  0.797992  1.015775e-32   False"
      ]
     },
     "execution_count": 252,
     "metadata": {},
     "output_type": "execute_result"
    }
   ],
   "source": [
    "pg.normality(df[\"calories\"])"
   ]
  },
  {
   "cell_type": "code",
   "execution_count": 253,
   "metadata": {},
   "outputs": [
    {
     "data": {
      "text/html": [
       "<div>\n",
       "<style scoped>\n",
       "    .dataframe tbody tr th:only-of-type {\n",
       "        vertical-align: middle;\n",
       "    }\n",
       "\n",
       "    .dataframe tbody tr th {\n",
       "        vertical-align: top;\n",
       "    }\n",
       "\n",
       "    .dataframe thead th {\n",
       "        text-align: right;\n",
       "    }\n",
       "</style>\n",
       "<table border=\"1\" class=\"dataframe\">\n",
       "  <thead>\n",
       "    <tr style=\"text-align: right;\">\n",
       "      <th></th>\n",
       "      <th>W</th>\n",
       "      <th>pval</th>\n",
       "      <th>normal</th>\n",
       "    </tr>\n",
       "  </thead>\n",
       "  <tbody>\n",
       "    <tr>\n",
       "      <th>carbohydrate</th>\n",
       "      <td>0.666868</td>\n",
       "      <td>1.857445e-39</td>\n",
       "      <td>False</td>\n",
       "    </tr>\n",
       "  </tbody>\n",
       "</table>\n",
       "</div>"
      ],
      "text/plain": [
       "                     W          pval  normal\n",
       "carbohydrate  0.666868  1.857445e-39   False"
      ]
     },
     "execution_count": 253,
     "metadata": {},
     "output_type": "execute_result"
    }
   ],
   "source": [
    "pg.normality(df[\"carbohydrate\"])"
   ]
  },
  {
   "cell_type": "code",
   "execution_count": 254,
   "metadata": {},
   "outputs": [
    {
     "data": {
      "text/html": [
       "<div>\n",
       "<style scoped>\n",
       "    .dataframe tbody tr th:only-of-type {\n",
       "        vertical-align: middle;\n",
       "    }\n",
       "\n",
       "    .dataframe tbody tr th {\n",
       "        vertical-align: top;\n",
       "    }\n",
       "\n",
       "    .dataframe thead th {\n",
       "        text-align: right;\n",
       "    }\n",
       "</style>\n",
       "<table border=\"1\" class=\"dataframe\">\n",
       "  <thead>\n",
       "    <tr style=\"text-align: right;\">\n",
       "      <th></th>\n",
       "      <th>W</th>\n",
       "      <th>pval</th>\n",
       "      <th>normal</th>\n",
       "    </tr>\n",
       "  </thead>\n",
       "  <tbody>\n",
       "    <tr>\n",
       "      <th>sugar</th>\n",
       "      <td>0.543179</td>\n",
       "      <td>4.764415e-44</td>\n",
       "      <td>False</td>\n",
       "    </tr>\n",
       "  </tbody>\n",
       "</table>\n",
       "</div>"
      ],
      "text/plain": [
       "              W          pval  normal\n",
       "sugar  0.543179  4.764415e-44   False"
      ]
     },
     "execution_count": 254,
     "metadata": {},
     "output_type": "execute_result"
    }
   ],
   "source": [
    "pg.normality(df[\"sugar\"])"
   ]
  },
  {
   "cell_type": "code",
   "execution_count": 255,
   "metadata": {},
   "outputs": [
    {
     "data": {
      "text/html": [
       "<div>\n",
       "<style scoped>\n",
       "    .dataframe tbody tr th:only-of-type {\n",
       "        vertical-align: middle;\n",
       "    }\n",
       "\n",
       "    .dataframe tbody tr th {\n",
       "        vertical-align: top;\n",
       "    }\n",
       "\n",
       "    .dataframe thead th {\n",
       "        text-align: right;\n",
       "    }\n",
       "</style>\n",
       "<table border=\"1\" class=\"dataframe\">\n",
       "  <thead>\n",
       "    <tr style=\"text-align: right;\">\n",
       "      <th></th>\n",
       "      <th>W</th>\n",
       "      <th>pval</th>\n",
       "      <th>normal</th>\n",
       "    </tr>\n",
       "  </thead>\n",
       "  <tbody>\n",
       "    <tr>\n",
       "      <th>protein</th>\n",
       "      <td>0.624527</td>\n",
       "      <td>3.626981e-41</td>\n",
       "      <td>False</td>\n",
       "    </tr>\n",
       "  </tbody>\n",
       "</table>\n",
       "</div>"
      ],
      "text/plain": [
       "                W          pval  normal\n",
       "protein  0.624527  3.626981e-41   False"
      ]
     },
     "execution_count": 255,
     "metadata": {},
     "output_type": "execute_result"
    }
   ],
   "source": [
    "pg.normality(df[\"protein\"])"
   ]
  },
  {
   "cell_type": "code",
   "execution_count": 256,
   "metadata": {},
   "outputs": [
    {
     "data": {
      "text/html": [
       "<div>\n",
       "<style scoped>\n",
       "    .dataframe tbody tr th:only-of-type {\n",
       "        vertical-align: middle;\n",
       "    }\n",
       "\n",
       "    .dataframe tbody tr th {\n",
       "        vertical-align: top;\n",
       "    }\n",
       "\n",
       "    .dataframe thead th {\n",
       "        text-align: right;\n",
       "    }\n",
       "</style>\n",
       "<table border=\"1\" class=\"dataframe\">\n",
       "  <thead>\n",
       "    <tr style=\"text-align: right;\">\n",
       "      <th></th>\n",
       "      <th>W</th>\n",
       "      <th>pval</th>\n",
       "      <th>normal</th>\n",
       "    </tr>\n",
       "  </thead>\n",
       "  <tbody>\n",
       "    <tr>\n",
       "      <th>servings</th>\n",
       "      <td>0.855534</td>\n",
       "      <td>1.424854e-28</td>\n",
       "      <td>False</td>\n",
       "    </tr>\n",
       "  </tbody>\n",
       "</table>\n",
       "</div>"
      ],
      "text/plain": [
       "                 W          pval  normal\n",
       "servings  0.855534  1.424854e-28   False"
      ]
     },
     "execution_count": 256,
     "metadata": {},
     "output_type": "execute_result"
    }
   ],
   "source": [
    "pg.normality(df[\"servings\"])"
   ]
  },
  {
   "cell_type": "markdown",
   "metadata": {},
   "source": [
    "#### Kruskal-Wallis test between : calories, carbohydrate, sugar, protein, servings and target (High Traffic)"
   ]
  },
  {
   "cell_type": "code",
   "execution_count": 257,
   "metadata": {},
   "outputs": [
    {
     "data": {
      "text/html": [
       "<div>\n",
       "<style scoped>\n",
       "    .dataframe tbody tr th:only-of-type {\n",
       "        vertical-align: middle;\n",
       "    }\n",
       "\n",
       "    .dataframe tbody tr th {\n",
       "        vertical-align: top;\n",
       "    }\n",
       "\n",
       "    .dataframe thead th {\n",
       "        text-align: right;\n",
       "    }\n",
       "</style>\n",
       "<table border=\"1\" class=\"dataframe\">\n",
       "  <thead>\n",
       "    <tr style=\"text-align: right;\">\n",
       "      <th></th>\n",
       "      <th>Source</th>\n",
       "      <th>ddof1</th>\n",
       "      <th>H</th>\n",
       "      <th>p-unc</th>\n",
       "    </tr>\n",
       "  </thead>\n",
       "  <tbody>\n",
       "    <tr>\n",
       "      <th>Kruskal</th>\n",
       "      <td>high_traffic</td>\n",
       "      <td>1</td>\n",
       "      <td>4.110551</td>\n",
       "      <td>0.042616</td>\n",
       "    </tr>\n",
       "  </tbody>\n",
       "</table>\n",
       "</div>"
      ],
      "text/plain": [
       "               Source  ddof1         H     p-unc\n",
       "Kruskal  high_traffic      1  4.110551  0.042616"
      ]
     },
     "execution_count": 257,
     "metadata": {},
     "output_type": "execute_result"
    }
   ],
   "source": [
    "# Hight Trafic vs calories\n",
    "pg.kruskal(data= df, dv=\"calories\", between=\"high_traffic\")"
   ]
  },
  {
   "cell_type": "markdown",
   "metadata": {},
   "source": [
    "We can support a difference of calories between the recipes of the two groups (High Traffic and Not High)."
   ]
  },
  {
   "cell_type": "code",
   "execution_count": 258,
   "metadata": {},
   "outputs": [
    {
     "data": {
      "text/html": [
       "<div>\n",
       "<style scoped>\n",
       "    .dataframe tbody tr th:only-of-type {\n",
       "        vertical-align: middle;\n",
       "    }\n",
       "\n",
       "    .dataframe tbody tr th {\n",
       "        vertical-align: top;\n",
       "    }\n",
       "\n",
       "    .dataframe thead th {\n",
       "        text-align: right;\n",
       "    }\n",
       "</style>\n",
       "<table border=\"1\" class=\"dataframe\">\n",
       "  <thead>\n",
       "    <tr style=\"text-align: right;\">\n",
       "      <th></th>\n",
       "      <th>Source</th>\n",
       "      <th>ddof1</th>\n",
       "      <th>H</th>\n",
       "      <th>p-unc</th>\n",
       "    </tr>\n",
       "  </thead>\n",
       "  <tbody>\n",
       "    <tr>\n",
       "      <th>Kruskal</th>\n",
       "      <td>high_traffic</td>\n",
       "      <td>1</td>\n",
       "      <td>3.894605</td>\n",
       "      <td>0.048441</td>\n",
       "    </tr>\n",
       "  </tbody>\n",
       "</table>\n",
       "</div>"
      ],
      "text/plain": [
       "               Source  ddof1         H     p-unc\n",
       "Kruskal  high_traffic      1  3.894605  0.048441"
      ]
     },
     "execution_count": 258,
     "metadata": {},
     "output_type": "execute_result"
    }
   ],
   "source": [
    "# Hight Trafic vs carbohydrate\n",
    "pg.kruskal(data= df, dv=\"carbohydrate\", between=\"high_traffic\")"
   ]
  },
  {
   "cell_type": "markdown",
   "metadata": {},
   "source": [
    "We can support a difference of carbohydrates between the recipes of the two groups (High Traffic and Not High)."
   ]
  },
  {
   "cell_type": "code",
   "execution_count": 259,
   "metadata": {},
   "outputs": [
    {
     "data": {
      "text/html": [
       "<div>\n",
       "<style scoped>\n",
       "    .dataframe tbody tr th:only-of-type {\n",
       "        vertical-align: middle;\n",
       "    }\n",
       "\n",
       "    .dataframe tbody tr th {\n",
       "        vertical-align: top;\n",
       "    }\n",
       "\n",
       "    .dataframe thead th {\n",
       "        text-align: right;\n",
       "    }\n",
       "</style>\n",
       "<table border=\"1\" class=\"dataframe\">\n",
       "  <thead>\n",
       "    <tr style=\"text-align: right;\">\n",
       "      <th></th>\n",
       "      <th>Source</th>\n",
       "      <th>ddof1</th>\n",
       "      <th>H</th>\n",
       "      <th>p-unc</th>\n",
       "    </tr>\n",
       "  </thead>\n",
       "  <tbody>\n",
       "    <tr>\n",
       "      <th>Kruskal</th>\n",
       "      <td>high_traffic</td>\n",
       "      <td>1</td>\n",
       "      <td>4.474275</td>\n",
       "      <td>0.034409</td>\n",
       "    </tr>\n",
       "  </tbody>\n",
       "</table>\n",
       "</div>"
      ],
      "text/plain": [
       "               Source  ddof1         H     p-unc\n",
       "Kruskal  high_traffic      1  4.474275  0.034409"
      ]
     },
     "execution_count": 259,
     "metadata": {},
     "output_type": "execute_result"
    }
   ],
   "source": [
    "# Hight Trafic vs sugar\n",
    "pg.kruskal(data= df, dv=\"sugar\", between=\"high_traffic\")"
   ]
  },
  {
   "cell_type": "markdown",
   "metadata": {},
   "source": [
    "We can support a difference of sugar between the recipes of the two groups (High Traffic and Not High)."
   ]
  },
  {
   "cell_type": "code",
   "execution_count": 260,
   "metadata": {},
   "outputs": [
    {
     "data": {
      "text/html": [
       "<div>\n",
       "<style scoped>\n",
       "    .dataframe tbody tr th:only-of-type {\n",
       "        vertical-align: middle;\n",
       "    }\n",
       "\n",
       "    .dataframe tbody tr th {\n",
       "        vertical-align: top;\n",
       "    }\n",
       "\n",
       "    .dataframe thead th {\n",
       "        text-align: right;\n",
       "    }\n",
       "</style>\n",
       "<table border=\"1\" class=\"dataframe\">\n",
       "  <thead>\n",
       "    <tr style=\"text-align: right;\">\n",
       "      <th></th>\n",
       "      <th>Source</th>\n",
       "      <th>ddof1</th>\n",
       "      <th>H</th>\n",
       "      <th>p-unc</th>\n",
       "    </tr>\n",
       "  </thead>\n",
       "  <tbody>\n",
       "    <tr>\n",
       "      <th>Kruskal</th>\n",
       "      <td>high_traffic</td>\n",
       "      <td>1</td>\n",
       "      <td>12.001051</td>\n",
       "      <td>0.000532</td>\n",
       "    </tr>\n",
       "  </tbody>\n",
       "</table>\n",
       "</div>"
      ],
      "text/plain": [
       "               Source  ddof1          H     p-unc\n",
       "Kruskal  high_traffic      1  12.001051  0.000532"
      ]
     },
     "execution_count": 260,
     "metadata": {},
     "output_type": "execute_result"
    }
   ],
   "source": [
    "# Hight Trafic vs protein\n",
    "pg.kruskal(data= df, dv=\"protein\", between=\"high_traffic\")"
   ]
  },
  {
   "cell_type": "markdown",
   "metadata": {},
   "source": [
    "We can support a difference of protein between the recipes of the two groups (High Traffic and Not High)."
   ]
  },
  {
   "cell_type": "code",
   "execution_count": 170,
   "metadata": {},
   "outputs": [
    {
     "data": {
      "text/html": [
       "<div>\n",
       "<style scoped>\n",
       "    .dataframe tbody tr th:only-of-type {\n",
       "        vertical-align: middle;\n",
       "    }\n",
       "\n",
       "    .dataframe tbody tr th {\n",
       "        vertical-align: top;\n",
       "    }\n",
       "\n",
       "    .dataframe thead th {\n",
       "        text-align: right;\n",
       "    }\n",
       "</style>\n",
       "<table border=\"1\" class=\"dataframe\">\n",
       "  <thead>\n",
       "    <tr style=\"text-align: right;\">\n",
       "      <th></th>\n",
       "      <th>Source</th>\n",
       "      <th>ddof1</th>\n",
       "      <th>H</th>\n",
       "      <th>p-unc</th>\n",
       "    </tr>\n",
       "  </thead>\n",
       "  <tbody>\n",
       "    <tr>\n",
       "      <th>Kruskal</th>\n",
       "      <td>high_traffic</td>\n",
       "      <td>1</td>\n",
       "      <td>2.175951</td>\n",
       "      <td>0.140183</td>\n",
       "    </tr>\n",
       "  </tbody>\n",
       "</table>\n",
       "</div>"
      ],
      "text/plain": [
       "               Source  ddof1         H     p-unc\n",
       "Kruskal  high_traffic      1  2.175951  0.140183"
      ]
     },
     "execution_count": 170,
     "metadata": {},
     "output_type": "execute_result"
    }
   ],
   "source": [
    "# Hight Trafic vs servings\n",
    "pg.kruskal(data= df, dv=\"servings\", between=\"high_traffic\")"
   ]
  },
  {
   "cell_type": "markdown",
   "metadata": {},
   "source": [
    "We cannot support a difference of servings between the recipes of the two groups (High Traffic and Not High)."
   ]
  },
  {
   "cell_type": "markdown",
   "metadata": {},
   "source": [
    "After performing these tests, it is probably relevant to use only the following numerical variables to predict the popularity of a recipe: calories, carbohydrates, sugar, protein.\n",
    "\n",
    "To confirm I also performed a graphical analysis. From the boxplots below, we can see that there is a difference in the distribution of calories, carbohydrates, sugar, and protein between each category of the target variable. But the distribution of portions identical between the two groups."
   ]
  },
  {
   "cell_type": "code",
   "execution_count": 262,
   "metadata": {},
   "outputs": [
    {
     "data": {
      "image/png": "[encoded data removed]",
      "text/plain": [
       "<Figure size 1440x540 with 3 Axes>"
      ]
     },
     "metadata": {},
     "output_type": "display_data"
    }
   ],
   "source": [
    "fig, axes = plt.subplots(1,3, figsize=(20,7.5))\n",
    "sns.boxplot(data = df, x=\"high_traffic\",y=\"calories\", ax=axes[0]).set(title=\"The distribution of Calories by Traffic (p < 0.05)\")\n",
    "sns.boxplot(data = df, x=\"high_traffic\",y=\"carbohydrate\", ax=axes[1]).set(title=\"The distribution of Carbohydrates by Traffic (p < 0.05)\")\n",
    "sns.boxplot(data = df, x=\"high_traffic\",y=\"sugar\", ax=axes[2]).set(title=\"The distribution of Sugar by Traffic (p < 0.05)\")\n",
    "for ax in fig.axes:\n",
    "    plt.sca(ax)"
   ]
  },
  {
   "cell_type": "code",
   "execution_count": 261,
   "metadata": {},
   "outputs": [
    {
     "data": {
      "image/png": "[encoded data removed]",
      "text/plain": [
       "<Figure size 1440x540 with 2 Axes>"
      ]
     },
     "metadata": {},
     "output_type": "display_data"
    }
   ],
   "source": [
    "fig, axes = plt.subplots(1,2, figsize=(20,7.5))\n",
    "sns.boxplot(data = df, x=\"high_traffic\",y=\"protein\", ax=axes[0]).set(title=\"The distribution of Proteins by Traffic (p < 0.05)\")\n",
    "sns.boxplot(data = df, x=\"high_traffic\",y=\"servings\", ax=axes[1]).set(title=\"The distribution of Servings by Traffic (p > 0.05)\")\n",
    "for ax in fig.axes:\n",
    "    plt.sca(ax)"
   ]
  },
  {
   "cell_type": "markdown",
   "metadata": {},
   "source": [
    "#### Relationship between : category and High Traffic  (Chi 2 independance)"
   ]
  },
  {
   "cell_type": "code",
   "execution_count": 269,
   "metadata": {},
   "outputs": [
    {
     "data": {
      "image/png": "[encoded data removed]",
      "text/plain": [
       "<Figure size 504x288 with 1 Axes>"
      ]
     },
     "metadata": {},
     "output_type": "display_data"
    }
   ],
   "source": [
    "crossCategoryTraffic = pd.crosstab(index = df[\"category\"], columns = df[\"high_traffic\"])\n",
    "crossCategoryTraffic.plot.bar(figsize=(7,4), rot=90);"
   ]
  },
  {
   "cell_type": "code",
   "execution_count": 263,
   "metadata": {},
   "outputs": [
    {
     "data": {
      "text/plain": [
       "3.417304408371102e-63"
      ]
     },
     "execution_count": 263,
     "metadata": {},
     "output_type": "execute_result"
    }
   ],
   "source": [
    "res = chi2_contingency(pd.crosstab(df[\"category\"], df[\"high_traffic\"]), correction=True)\n",
    "res.pvalue"
   ]
  },
  {
   "cell_type": "markdown",
   "metadata": {},
   "source": [
    "We can support that category and high_traffic are not independent."
   ]
  },
  {
   "cell_type": "markdown",
   "metadata": {},
   "source": [
    "## Model Fitting & Evaluation\n",
    "\n",
    "Predicting which recipes will be populare is a classification problem in ML. I am choosing the **Decision tree** as a baseline model because it's simple and efficient to understand and implement, it's also robust to noises in the data and easy to interpret. \n",
    "The comparison model I'm choosing is the **Random Forest Classifier Model**, because it can capture more complex and nonlinear relationships between input features and target variables and its also relatively easy to interpret. \n",
    "\n",
    "I'm chosing : \n",
    "- Firstly the **accuracy score** to evaluate the model because it's commonly used and easy to interpret because it give us the percent of correct predictions made; The closer is that number to one, the better is the model\n",
    "- Secondly the **precision** because it gave us the percentage of positive predictions that are correct. For our problem , the closer is that value to 80%, the better is the model."
   ]
  },
  {
   "cell_type": "markdown",
   "metadata": {},
   "source": [
    "### Prepare Data for Modelling\n",
    "\n",
    "To enable modelling, i chose calories, carbohydrates, sugar, protein, categories as features, high_traffic as target variables. I also have made the following changes:\n",
    "\n",
    "- Normalize the numeric features\n",
    "- Convert the categorical variables into numeric features\n",
    "- Split the data into a training set and a test set"
   ]
  },
  {
   "cell_type": "code",
   "execution_count": 176,
   "metadata": {},
   "outputs": [],
   "source": [
    "# drop servings from features\n",
    "df = df.drop(columns=[\"servings\"])"
   ]
  },
  {
   "cell_type": "code",
   "execution_count": 177,
   "metadata": {},
   "outputs": [
    {
     "data": {
      "text/plain": [
       "Index(['calories', 'carbohydrate', 'sugar', 'protein', 'category',\n",
       "       'high_traffic'],\n",
       "      dtype='object')"
      ]
     },
     "execution_count": 177,
     "metadata": {},
     "output_type": "execute_result"
    }
   ],
   "source": [
    "df.columns"
   ]
  },
  {
   "cell_type": "code",
   "execution_count": 178,
   "metadata": {},
   "outputs": [],
   "source": [
    "# define the encoder\n",
    "labelencoder = LabelEncoder()\n",
    "df['category'] = labelencoder.fit_transform(df['category'])"
   ]
  },
  {
   "cell_type": "code",
   "execution_count": 179,
   "metadata": {},
   "outputs": [],
   "source": [
    "feature_cols = ['calories','carbohydrate','sugar','protein','category']\n",
    "X = df[feature_cols] # Features\n",
    "y = df['high_traffic'] # Target variable"
   ]
  },
  {
   "cell_type": "code",
   "execution_count": 180,
   "metadata": {},
   "outputs": [
    {
     "name": "stderr",
     "output_type": "stream",
     "text": [
      "C:\\ProgramData\\Anaconda3\\lib\\site-packages\\pandas\\core\\frame.py:3607: SettingWithCopyWarning: \n",
      "A value is trying to be set on a copy of a slice from a DataFrame.\n",
      "Try using .loc[row_indexer,col_indexer] = value instead\n",
      "\n",
      "See the caveats in the documentation: https://pandas.pydata.org/pandas-docs/stable/user_guide/indexing.html#returning-a-view-versus-a-copy\n",
      "  self._set_item(key, value)\n"
     ]
    }
   ],
   "source": [
    "# define the scaler \n",
    "scaler = PowerTransformer()\n",
    "# fit and transform the numerical variables\n",
    "X[['calories','carbohydrate','sugar','protein']] = \\\n",
    "scaler.fit_transform(X[['calories','carbohydrate','sugar','protein']])"
   ]
  },
  {
   "cell_type": "code",
   "execution_count": 181,
   "metadata": {},
   "outputs": [],
   "source": [
    "# split the dataset into 70% training set and 30% test set \n",
    "X_train, X_test, y_train, y_test = train_test_split(X,y, test_size = .3, random_state = SEED) "
   ]
  },
  {
   "cell_type": "markdown",
   "metadata": {},
   "source": [
    "### Decision Tree Classifier Model"
   ]
  },
  {
   "cell_type": "code",
   "execution_count": 182,
   "metadata": {},
   "outputs": [
    {
     "name": "stdout",
     "output_type": "stream",
     "text": [
      "The accuracy of the Decision Tree Model is : 0.6736842105263158\n"
     ]
    }
   ],
   "source": [
    "dt = DecisionTreeClassifier(random_state=SEED)\n",
    "dt.fit(X_train, y_train)\n",
    "y_pred_dt = dt.predict(X_test)\n",
    "print(f\"The accuracy of the Decision Tree Model is : {accuracy_score(y_test, y_pred_dt)}\")"
   ]
  },
  {
   "cell_type": "markdown",
   "metadata": {},
   "source": [
    "#### Finding the feature importance"
   ]
  },
  {
   "cell_type": "code",
   "execution_count": 183,
   "metadata": {},
   "outputs": [
    {
     "data": {
      "image/png": "[encoded data removed]",
      "text/plain": [
       "<Figure size 432x288 with 1 Axes>"
      ]
     },
     "metadata": {},
     "output_type": "display_data"
    }
   ],
   "source": [
    "importance = dt.feature_importances_\n",
    "new_col_names = [\"calories\",\"carbohydrate\",\"sugar\",\"protein\",\"category\"]\n",
    "f_importance_dt = {}\n",
    "for i in range(len(new_col_names)):\n",
    "    f_importance_dt[new_col_names[i]] = importance[i]\n",
    "\n",
    "plt.bar(f_importance_dt.keys(), f_importance_dt.values(), alpha =.5)\n",
    "plt.title(\"Feature Importance in Decision Tree Classifier Model\");"
   ]
  },
  {
   "cell_type": "code",
   "execution_count": 184,
   "metadata": {},
   "outputs": [
    {
     "name": "stdout",
     "output_type": "stream",
     "text": [
      "The accuracy of the Random Forest Classifier Model is : 0.7298245614035088\n"
     ]
    }
   ],
   "source": [
    "rfc = RandomForestClassifier()\n",
    "rfc.fit(X_train, y_train)\n",
    "y_pred_rfc = rfc.predict(X_test)\n",
    "print(f\"The accuracy of the Random Forest Classifier Model is : {accuracy_score(y_test, y_pred_rfc)}\")"
   ]
  },
  {
   "cell_type": "markdown",
   "metadata": {},
   "source": [
    "#### Finding the best parameter for the Random Forest Classifier Model"
   ]
  },
  {
   "cell_type": "code",
   "execution_count": 216,
   "metadata": {},
   "outputs": [
    {
     "name": "stdout",
     "output_type": "stream",
     "text": [
      "Best max_depth is: 5 \n",
      "Testing Accuracy is: 0.7684210526315789\n"
     ]
    },
    {
     "data": {
      "image/png": "[encoded data removed]",
      "text/plain": [
       "<Figure size 432x288 with 1 Axes>"
      ]
     },
     "metadata": {},
     "output_type": "display_data"
    }
   ],
   "source": [
    "train_score = []\n",
    "test_score = []\n",
    "max_score = 0\n",
    "max_pair = (0,0)\n",
    "\n",
    "for i in range(1,50):\n",
    "    rfc_ = RandomForestClassifier(max_depth=i,random_state=SEED)\n",
    "    rfc_.fit(X_train,y_train)\n",
    "    y_pred = rfc_.predict(X_test)\n",
    "    train_score.append(rfc_.score(X_train,y_train))\n",
    "    test_score.append(accuracy_score(y_test,y_pred))\n",
    "    test_pair = (i,accuracy_score(y_test,y_pred))\n",
    "    if test_pair[1] > max_pair[1]:\n",
    "        max_pair = test_pair\n",
    "\n",
    "fig, ax = plt.subplots()\n",
    "ax.plot(np.arange(1,50), train_score, label = \"Training Accuracy\")\n",
    "ax.plot(np.arange(1,50), test_score, label = \"Testing Accuracy\");\n",
    "print(f'Best max_depth is: {max_pair[0]} \\nTesting Accuracy is: {max_pair[1]}')"
   ]
  },
  {
   "cell_type": "markdown",
   "metadata": {},
   "source": [
    "#### Finding the feature importance"
   ]
  },
  {
   "cell_type": "code",
   "execution_count": 186,
   "metadata": {},
   "outputs": [
    {
     "data": {
      "image/png": "[encoded data removed]",
      "text/plain": [
       "<Figure size 432x288 with 1 Axes>"
      ]
     },
     "metadata": {},
     "output_type": "display_data"
    }
   ],
   "source": [
    "importance = rfc_.feature_importances_\n",
    "new_col_names = [\"calories\",\"carbohydrate\",\"sugar\",\"protein\",\"category\"]\n",
    "f_importance_rfc_ = {}\n",
    "for i in range(len(new_col_names)):\n",
    "    f_importance_rfc_[new_col_names[i]] = importance[i]\n",
    "\n",
    "plt.bar(f_importance_rfc_.keys(), f_importance_rfc_.values(), alpha =.5)\n",
    "plt.title(\"Feature Importance in Random Forest Classifier Model\");"
   ]
  },
  {
   "cell_type": "markdown",
   "metadata": {},
   "source": [
    "## Results"
   ]
  },
  {
   "cell_type": "markdown",
   "metadata": {},
   "source": [
    "A greater accuracy (staying closer to one) value indicates the model has smaller errors in prediction.\n",
    "\n",
    "Therefore, **Random Forest Classifier** (0,77) is performing better at predicting whether a recipe is popular or not based on that metric."
   ]
  },
  {
   "cell_type": "code",
   "execution_count": 273,
   "metadata": {},
   "outputs": [
    {
     "data": {
      "image/png": "[encoded data removed]",
      "text/plain": [
       "<Figure size 432x288 with 1 Axes>"
      ]
     },
     "metadata": {},
     "output_type": "display_data"
    }
   ],
   "source": [
    "accuracies = [0.67,0.77]\n",
    "labels =['Decision Tree Model','Random Forest Classifier Model']\n",
    "plt.bar(labels, accuracies, alpha=0.5)\n",
    "\n",
    "# Add labels to the chart\n",
    "plt.title(f'{labels[0]} v.s {labels[1]}')\n",
    "plt.xlabel('Models')\n",
    "plt.ylabel('Accuracies')\n",
    "\n",
    "# Show the chart\n",
    "plt.show()"
   ]
  },
  {
   "cell_type": "markdown",
   "metadata": {},
   "source": [
    "### Evaluate by Business Criteria"
   ]
  },
  {
   "cell_type": "markdown",
   "metadata": {},
   "source": [
    "The company wants us to predict which recipes will be popular 80% of time and minimize the chance of showing unpopular recipes. Therefore, we would consider using the percentage of prediction popular 80% of time of the actual class as a KPI. That indicator refers to the precision for the “popularity” of a recipe. The closer that precision is to 80%, the better is the model. We can also use that KPI to compare the two models again. The closer the precision is to 80% the best is the model. For the popularity class : The random forest classifier has a precision of 78%, while the decision tree only has 75%. "
   ]
  },
  {
   "cell_type": "markdown",
   "metadata": {},
   "source": [
    "### Visualize the confusion matrixes"
   ]
  },
  {
   "cell_type": "code",
   "execution_count": 211,
   "metadata": {},
   "outputs": [
    {
     "name": "stdout",
     "output_type": "stream",
     "text": [
      "              precision    recall  f1-score   support\n",
      "\n",
      "           0       0.56      0.60      0.58       107\n",
      "           1       0.75      0.72      0.73       178\n",
      "\n",
      "    accuracy                           0.67       285\n",
      "   macro avg       0.65      0.66      0.66       285\n",
      "weighted avg       0.68      0.67      0.68       285\n",
      "\n"
     ]
    }
   ],
   "source": [
    "print(classification_report(y_test,y_pred_dt))\n",
    "conf_matrix_dt = confusion_matrix(y_test,y_pred_dt)"
   ]
  },
  {
   "cell_type": "code",
   "execution_count": 210,
   "metadata": {},
   "outputs": [
    {
     "name": "stdout",
     "output_type": "stream",
     "text": [
      "              precision    recall  f1-score   support\n",
      "\n",
      "           0       0.64      0.64      0.64       107\n",
      "           1       0.78      0.78      0.78       178\n",
      "\n",
      "    accuracy                           0.73       285\n",
      "   macro avg       0.71      0.71      0.71       285\n",
      "weighted avg       0.73      0.73      0.73       285\n",
      "\n"
     ]
    }
   ],
   "source": [
    "print(classification_report(y_test,rfc_.predict(X_test)))\n",
    "conf_matrix_rfc_ = confusion_matrix(y_test,rfc_.predict(X_test))"
   ]
  },
  {
   "cell_type": "code",
   "execution_count": 213,
   "metadata": {
    "scrolled": true
   },
   "outputs": [
    {
     "data": {
      "image/png": "[encoded data removed]",
      "text/plain": [
       "<Figure size 1080x360 with 4 Axes>"
      ]
     },
     "metadata": {},
     "output_type": "display_data"
    }
   ],
   "source": [
    "fig, axes = plt.subplots(1,2, figsize=(15,5))\n",
    "sns.heatmap(data = conf_matrix_dt, annot=True, ax=axes[0], fmt=\"d\").set(title=\"Confusion matrix for the Decision Tree\")\n",
    "sns.heatmap(data = conf_matrix_rfc_, annot = True, ax=axes[1],fmt=\"d\").set(title=\"Confusion matrix for the Random Forest\")\n",
    "\n",
    "for ax in fig.axes:    \n",
    "    plt.sca(ax)\n",
    "    \n",
    "for i in range(2):\n",
    "    axes[i].set_xlabel(\"Predicted Popularity\", fontsize=14, labelpad=20);\n",
    "    axes[i].xaxis.set_ticklabels(['Not High', 'High']);\n",
    "    axes[i].set_ylabel(\"Actual Popularity\", fontsize=14, labelpad=20);\n",
    "    axes[i].yaxis.set_ticklabels(['Not High', 'High']);"
   ]
  },
  {
   "cell_type": "code",
   "execution_count": 212,
   "metadata": {},
   "outputs": [
    {
     "data": {
      "image/png": "[encoded data removed]",
      "text/plain": [
       "<Figure size 432x288 with 1 Axes>"
      ]
     },
     "metadata": {},
     "output_type": "display_data"
    }
   ],
   "source": [
    "da = [0.75,0.78]\n",
    "labels =['Decision Tree Model','Random Forest Classifier Model']\n",
    "plt.bar(labels, da, alpha=0.5)\n",
    "\n",
    "# Add labels to the chart\n",
    "plt.title(f'{labels[0]} v.s {labels[1]}')\n",
    "plt.xlabel('Models')\n",
    "plt.ylabel('Precisions')\n",
    "\n",
    "# Show the chart\n",
    "plt.show()"
   ]
  },
  {
   "cell_type": "markdown",
   "metadata": {},
   "source": [
    "## Recommendation \n",
    "\n",
    "In order to reduce the difficulties the company may encounter in the future, we may consider deploying this **Random Forest Classifier Model** in production. By implementing this model, we will be able to predict which recipe will be popular 78% of the time and minimize the\n",
    "chance to show those who are unpopular. I will recommend the following steps to ensure the model can be deployed and improved on a regular basis.\n",
    "\n",
    "1. Test the model over the last month and compare its prediction to the prediction of the experienced recipe website manager;\n",
    "\n",
    "2. Identify and correct potential errors to improve accuracy after testing;\n",
    "\n",
    "3. Fully deploy the model using an effective deployment strategy, such as a web or mobile app or API;\n",
    "\n",
    "4. Continuously improve the model by collecting more data, feature engineer and fine-tuning parameter."
   ]
  },
  {
   "cell_type": "code",
   "execution_count": null,
   "metadata": {},
   "outputs": [],
   "source": []
  }
 ],
 "metadata": {
  "kernelspec": {
   "display_name": "Python 3",
   "language": "python",
   "name": "python3"
  },
  "language_info": {
   "codemirror_mode": {
    "name": "ipython",
    "version": 3
   },
   "file_extension": ".py",
   "mimetype": "text/x-python",
   "name": "python",
   "nbconvert_exporter": "python",
   "pygments_lexer": "ipython3",
   "version": "3.8.3"
  }
 },
 "nbformat": 4,
 "nbformat_minor": 4
}
