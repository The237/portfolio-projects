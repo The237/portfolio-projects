{
 "cells": [
  {
   "cell_type": "markdown",
   "metadata": {},
   "source": [
    "# Data Scientist Associate \n",
    "## Proposal for Practical Exam"
   ]
  },
  {
   "cell_type": "markdown",
   "metadata": {},
   "source": [
    "## Task 1\n",
    "\n",
    "The dataset contains **1500 rows and 8 columns** with missing values before cleaning. I have validated all the columns against the criteria in the dataset table :\n",
    "1. owned : Without missing values, two values 0 and 1.             \n",
    "2. make_model : Same as the description without missing values. \n",
    "3. review_month : Without missing values, but the month short format was not correct for some rows, so i identified a regular expression **^\\d\\d-** to replace and make them match.\n",
    "4. web_browser : 100+ missing values, so I replace them with **unknown**. \n",
    "5. reviewer_age : 100+ missing values represented by the **- symbol**, I replace them by the average age.       \n",
    "6. primary_use : Same as the description, without missing values.        \n",
    "7. value_for_money : Same as the description without missing values.\n",
    "8. overall_rating : Same as the description without missing values.\n",
    "\n",
    "After the validation step, the dataset contains **1500 rows and 8 columns.**\n"
   ]
  },
  {
   "cell_type": "code",
   "execution_count": 55,
   "metadata": {},
   "outputs": [
    {
     "data": {
      "text/plain": [
       "(1500, 8)"
      ]
     },
     "execution_count": 55,
     "metadata": {},
     "output_type": "execute_result"
    }
   ],
   "source": [
    "df.shape"
   ]
  },
  {
   "cell_type": "markdown",
   "metadata": {},
   "source": [
    "### Original Dataset"
   ]
  },
  {
   "cell_type": "code",
   "execution_count": 21,
   "metadata": {},
   "outputs": [
    {
     "name": "stdout",
     "output_type": "stream",
     "text": [
      "<class 'pandas.core.frame.DataFrame'>\n",
      "RangeIndex: 1500 entries, 0 to 1499\n",
      "Data columns (total 8 columns):\n",
      " #   Column           Non-Null Count  Dtype  \n",
      "---  ------           --------------  -----  \n",
      " 0   owned            1500 non-null   int64  \n",
      " 1   make_model       1500 non-null   object \n",
      " 2   review_month     1500 non-null   object \n",
      " 3   web_browser      1350 non-null   object \n",
      " 4   reviewer_age     1500 non-null   object \n",
      " 5   primary_use      1500 non-null   object \n",
      " 6   value_for_money  1500 non-null   object \n",
      " 7   overall_rating   1500 non-null   float64\n",
      "dtypes: float64(1), int64(1), object(6)\n",
      "memory usage: 93.9+ KB\n"
     ]
    }
   ],
   "source": [
    "# Data Validation\n",
    "# Check all variables in the data againt the criteria in the database\n",
    "\n",
    "import pandas as pd\n",
    "import numpy as np\n",
    "# import warnings filter\n",
    "from warnings import simplefilter\n",
    "# ignore all future warnings\n",
    "simplefilter(action='ignore', category=FutureWarning)\n",
    "\n",
    "df = pd.read_csv(\"data/electric_bike_ratings_2212.csv\")\n",
    "df.info()"
   ]
  },
  {
   "cell_type": "markdown",
   "metadata": {},
   "source": [
    "### Validate the categorical variables"
   ]
  },
  {
   "cell_type": "code",
   "execution_count": 2,
   "metadata": {},
   "outputs": [
    {
     "name": "stdout",
     "output_type": "stream",
     "text": [
      "Nielah-Eyden     652\n",
      "Lunna-Eyden      329\n",
      "Lunna-Keetra     178\n",
      "Hoang-Keetra     124\n",
      "Hoang-Eyden      124\n",
      "Nielah-Keetra     93\n",
      "Name: make_model, dtype: int64\n",
      "Sep       73\n",
      "Mar       72\n",
      "May       68\n",
      "Nov       67\n",
      "Apr       65\n",
      "          ..\n",
      "10-Jul     1\n",
      "18-Aug     1\n",
      "14-Apr     1\n",
      "20-Sep     1\n",
      "06-Aug     1\n",
      "Name: review_month, Length: 332, dtype: int64\n",
      "Chrome     698\n",
      "IE         239\n",
      "Firefox    233\n",
      "Safari     133\n",
      "Opera       24\n",
      "Android     23\n",
      "Name: web_browser, dtype: int64\n",
      "-     105\n",
      "19     52\n",
      "41     51\n",
      "45     50\n",
      "18     46\n",
      "44     46\n",
      "20     46\n",
      "40     45\n",
      "17     45\n",
      "37     45\n",
      "30     45\n",
      "39     45\n",
      "23     43\n",
      "16     43\n",
      "48     42\n",
      "46     41\n",
      "21     41\n",
      "22     40\n",
      "33     39\n",
      "26     39\n",
      "36     39\n",
      "24     39\n",
      "25     38\n",
      "27     38\n",
      "42     37\n",
      "47     37\n",
      "31     36\n",
      "28     36\n",
      "43     36\n",
      "29     35\n",
      "50     33\n",
      "34     32\n",
      "35     31\n",
      "32     30\n",
      "38     28\n",
      "49     26\n",
      "Name: reviewer_age, dtype: int64\n",
      "Commuting    1095\n",
      "Leisure       405\n",
      "Name: primary_use, dtype: int64\n",
      "5/10     387\n",
      "6/10     323\n",
      "4/10     315\n",
      "3/10     183\n",
      "7/10     167\n",
      "2/10      53\n",
      "8/10      52\n",
      "1/10      11\n",
      "9/10       8\n",
      "10/10      1\n",
      "Name: value_for_money, dtype: int64\n"
     ]
    }
   ],
   "source": [
    "cat = [\"make_model\",\"review_month\",\"web_browser\",\"reviewer_age\",\"primary_use\",\"value_for_money\"]\n",
    "for col in cat:\n",
    "    print(df[col].value_counts())"
   ]
  },
  {
   "cell_type": "markdown",
   "metadata": {},
   "source": [
    "### Validate the numerical variables"
   ]
  },
  {
   "cell_type": "code",
   "execution_count": 3,
   "metadata": {},
   "outputs": [
    {
     "data": {
      "text/html": [
       "<div>\n",
       "<style scoped>\n",
       "    .dataframe tbody tr th:only-of-type {\n",
       "        vertical-align: middle;\n",
       "    }\n",
       "\n",
       "    .dataframe tbody tr th {\n",
       "        vertical-align: top;\n",
       "    }\n",
       "\n",
       "    .dataframe thead th {\n",
       "        text-align: right;\n",
       "    }\n",
       "</style>\n",
       "<table border=\"1\" class=\"dataframe\">\n",
       "  <thead>\n",
       "    <tr style=\"text-align: right;\">\n",
       "      <th></th>\n",
       "      <th>owned</th>\n",
       "      <th>overall_rating</th>\n",
       "    </tr>\n",
       "  </thead>\n",
       "  <tbody>\n",
       "    <tr>\n",
       "      <th>count</th>\n",
       "      <td>1500.000000</td>\n",
       "      <td>1500.000000</td>\n",
       "    </tr>\n",
       "    <tr>\n",
       "      <th>mean</th>\n",
       "      <td>0.593333</td>\n",
       "      <td>17.138907</td>\n",
       "    </tr>\n",
       "    <tr>\n",
       "      <th>std</th>\n",
       "      <td>0.491375</td>\n",
       "      <td>2.445566</td>\n",
       "    </tr>\n",
       "    <tr>\n",
       "      <th>min</th>\n",
       "      <td>0.000000</td>\n",
       "      <td>11.690000</td>\n",
       "    </tr>\n",
       "    <tr>\n",
       "      <th>25%</th>\n",
       "      <td>0.000000</td>\n",
       "      <td>15.320000</td>\n",
       "    </tr>\n",
       "    <tr>\n",
       "      <th>50%</th>\n",
       "      <td>1.000000</td>\n",
       "      <td>18.240000</td>\n",
       "    </tr>\n",
       "    <tr>\n",
       "      <th>75%</th>\n",
       "      <td>1.000000</td>\n",
       "      <td>18.840000</td>\n",
       "    </tr>\n",
       "    <tr>\n",
       "      <th>max</th>\n",
       "      <td>1.000000</td>\n",
       "      <td>22.760000</td>\n",
       "    </tr>\n",
       "  </tbody>\n",
       "</table>\n",
       "</div>"
      ],
      "text/plain": [
       "             owned  overall_rating\n",
       "count  1500.000000     1500.000000\n",
       "mean      0.593333       17.138907\n",
       "std       0.491375        2.445566\n",
       "min       0.000000       11.690000\n",
       "25%       0.000000       15.320000\n",
       "50%       1.000000       18.240000\n",
       "75%       1.000000       18.840000\n",
       "max       1.000000       22.760000"
      ]
     },
     "execution_count": 3,
     "metadata": {},
     "output_type": "execute_result"
    }
   ],
   "source": [
    "df.describe()"
   ]
  },
  {
   "cell_type": "markdown",
   "metadata": {},
   "source": [
    "### Check the missing values in the columns"
   ]
  },
  {
   "cell_type": "code",
   "execution_count": 56,
   "metadata": {},
   "outputs": [
    {
     "data": {
      "text/plain": [
       "owned              0\n",
       "make_model         0\n",
       "review_month       0\n",
       "web_browser        0\n",
       "reviewer_age       0\n",
       "primary_use        0\n",
       "value_for_money    0\n",
       "overall_rating     0\n",
       "dtype: int64"
      ]
     },
     "execution_count": 56,
     "metadata": {},
     "output_type": "execute_result"
    }
   ],
   "source": [
    "df.isna().sum()"
   ]
  },
  {
   "cell_type": "markdown",
   "metadata": {},
   "source": [
    "### Clean the web_browser column"
   ]
  },
  {
   "cell_type": "code",
   "execution_count": 39,
   "metadata": {},
   "outputs": [
    {
     "name": "stdout",
     "output_type": "stream",
     "text": [
      "<class 'pandas.core.frame.DataFrame'>\n",
      "RangeIndex: 1500 entries, 0 to 1499\n",
      "Data columns (total 8 columns):\n",
      " #   Column           Non-Null Count  Dtype  \n",
      "---  ------           --------------  -----  \n",
      " 0   owned            1500 non-null   int64  \n",
      " 1   make_model       1500 non-null   object \n",
      " 2   review_month     1500 non-null   object \n",
      " 3   web_browser      1500 non-null   object \n",
      " 4   reviewer_age     1500 non-null   object \n",
      " 5   primary_use      1500 non-null   object \n",
      " 6   value_for_money  1500 non-null   object \n",
      " 7   overall_rating   1500 non-null   float64\n",
      "dtypes: float64(1), int64(1), object(6)\n",
      "memory usage: 93.9+ KB\n"
     ]
    }
   ],
   "source": [
    "df[\"web_browser\"] = df[\"web_browser\"].fillna(\"unknown\")\n",
    "df.info()"
   ]
  },
  {
   "cell_type": "markdown",
   "metadata": {},
   "source": [
    "### Clean age column"
   ]
  },
  {
   "cell_type": "code",
   "execution_count": 59,
   "metadata": {},
   "outputs": [
    {
     "name": "stdout",
     "output_type": "stream",
     "text": [
      "<class 'pandas.core.frame.DataFrame'>\n",
      "RangeIndex: 1500 entries, 0 to 1499\n",
      "Data columns (total 8 columns):\n",
      " #   Column           Non-Null Count  Dtype  \n",
      "---  ------           --------------  -----  \n",
      " 0   owned            1500 non-null   int64  \n",
      " 1   make_model       1500 non-null   object \n",
      " 2   review_month     1500 non-null   object \n",
      " 3   web_browser      1500 non-null   object \n",
      " 4   reviewer_age     1500 non-null   int32  \n",
      " 5   primary_use      1500 non-null   object \n",
      " 6   value_for_money  1500 non-null   int32  \n",
      " 7   overall_rating   1500 non-null   float64\n",
      "dtypes: float64(1), int32(2), int64(1), object(4)\n",
      "memory usage: 82.2+ KB\n"
     ]
    },
    {
     "data": {
      "text/html": [
       "<div>\n",
       "<style scoped>\n",
       "    .dataframe tbody tr th:only-of-type {\n",
       "        vertical-align: middle;\n",
       "    }\n",
       "\n",
       "    .dataframe tbody tr th {\n",
       "        vertical-align: top;\n",
       "    }\n",
       "\n",
       "    .dataframe thead th {\n",
       "        text-align: right;\n",
       "    }\n",
       "</style>\n",
       "<table border=\"1\" class=\"dataframe\">\n",
       "  <thead>\n",
       "    <tr style=\"text-align: right;\">\n",
       "      <th></th>\n",
       "      <th>owned</th>\n",
       "      <th>reviewer_age</th>\n",
       "      <th>value_for_money</th>\n",
       "      <th>overall_rating</th>\n",
       "    </tr>\n",
       "  </thead>\n",
       "  <tbody>\n",
       "    <tr>\n",
       "      <th>count</th>\n",
       "      <td>1500.000000</td>\n",
       "      <td>1500.000000</td>\n",
       "      <td>1500.000000</td>\n",
       "      <td>1500.000000</td>\n",
       "    </tr>\n",
       "    <tr>\n",
       "      <th>mean</th>\n",
       "      <td>0.593333</td>\n",
       "      <td>32.556000</td>\n",
       "      <td>4.977333</td>\n",
       "      <td>17.138907</td>\n",
       "    </tr>\n",
       "    <tr>\n",
       "      <th>std</th>\n",
       "      <td>0.491375</td>\n",
       "      <td>9.876769</td>\n",
       "      <td>1.486257</td>\n",
       "      <td>2.445566</td>\n",
       "    </tr>\n",
       "    <tr>\n",
       "      <th>min</th>\n",
       "      <td>0.000000</td>\n",
       "      <td>16.000000</td>\n",
       "      <td>1.000000</td>\n",
       "      <td>11.690000</td>\n",
       "    </tr>\n",
       "    <tr>\n",
       "      <th>25%</th>\n",
       "      <td>0.000000</td>\n",
       "      <td>24.000000</td>\n",
       "      <td>4.000000</td>\n",
       "      <td>15.320000</td>\n",
       "    </tr>\n",
       "    <tr>\n",
       "      <th>50%</th>\n",
       "      <td>1.000000</td>\n",
       "      <td>32.000000</td>\n",
       "      <td>5.000000</td>\n",
       "      <td>18.240000</td>\n",
       "    </tr>\n",
       "    <tr>\n",
       "      <th>75%</th>\n",
       "      <td>1.000000</td>\n",
       "      <td>41.000000</td>\n",
       "      <td>6.000000</td>\n",
       "      <td>18.840000</td>\n",
       "    </tr>\n",
       "    <tr>\n",
       "      <th>max</th>\n",
       "      <td>1.000000</td>\n",
       "      <td>50.000000</td>\n",
       "      <td>10.000000</td>\n",
       "      <td>22.760000</td>\n",
       "    </tr>\n",
       "  </tbody>\n",
       "</table>\n",
       "</div>"
      ],
      "text/plain": [
       "             owned  reviewer_age  value_for_money  overall_rating\n",
       "count  1500.000000   1500.000000      1500.000000     1500.000000\n",
       "mean      0.593333     32.556000         4.977333       17.138907\n",
       "std       0.491375      9.876769         1.486257        2.445566\n",
       "min       0.000000     16.000000         1.000000       11.690000\n",
       "25%       0.000000     24.000000         4.000000       15.320000\n",
       "50%       1.000000     32.000000         5.000000       18.240000\n",
       "75%       1.000000     41.000000         6.000000       18.840000\n",
       "max       1.000000     50.000000        10.000000       22.760000"
      ]
     },
     "execution_count": 59,
     "metadata": {},
     "output_type": "execute_result"
    }
   ],
   "source": [
    "# get all the rows were reviewer_age are not - and compute their mean for\n",
    "avg_age = np.mean(df.loc[df[\"reviewer_age\"] !='-',\"reviewer_age\"].astype(int))\n",
    "# missing values replacement\n",
    "df.loc[df[\"reviewer_age\"] == \"-\",\"reviewer_age\"] = avg_age\n",
    "# convert the reviewer_age to int\n",
    "df[\"reviewer_age\"] = df[\"reviewer_age\"].astype(int)\n",
    "\n",
    "df.info()\n",
    "df.describe()"
   ]
  },
  {
   "cell_type": "markdown",
   "metadata": {},
   "source": [
    "### Clean value_for_money column"
   ]
  },
  {
   "cell_type": "code",
   "execution_count": 48,
   "metadata": {},
   "outputs": [
    {
     "name": "stdout",
     "output_type": "stream",
     "text": [
      "<class 'pandas.core.frame.DataFrame'>\n",
      "RangeIndex: 1500 entries, 0 to 1499\n",
      "Data columns (total 8 columns):\n",
      " #   Column           Non-Null Count  Dtype  \n",
      "---  ------           --------------  -----  \n",
      " 0   owned            1500 non-null   int64  \n",
      " 1   make_model       1500 non-null   object \n",
      " 2   review_month     1500 non-null   object \n",
      " 3   web_browser      1500 non-null   object \n",
      " 4   reviewer_age     1500 non-null   int32  \n",
      " 5   primary_use      1500 non-null   object \n",
      " 6   value_for_money  1500 non-null   int32  \n",
      " 7   overall_rating   1500 non-null   float64\n",
      "dtypes: float64(1), int32(2), int64(1), object(4)\n",
      "memory usage: 82.2+ KB\n"
     ]
    },
    {
     "data": {
      "text/html": [
       "<div>\n",
       "<style scoped>\n",
       "    .dataframe tbody tr th:only-of-type {\n",
       "        vertical-align: middle;\n",
       "    }\n",
       "\n",
       "    .dataframe tbody tr th {\n",
       "        vertical-align: top;\n",
       "    }\n",
       "\n",
       "    .dataframe thead th {\n",
       "        text-align: right;\n",
       "    }\n",
       "</style>\n",
       "<table border=\"1\" class=\"dataframe\">\n",
       "  <thead>\n",
       "    <tr style=\"text-align: right;\">\n",
       "      <th></th>\n",
       "      <th>owned</th>\n",
       "      <th>reviewer_age</th>\n",
       "      <th>value_for_money</th>\n",
       "      <th>overall_rating</th>\n",
       "    </tr>\n",
       "  </thead>\n",
       "  <tbody>\n",
       "    <tr>\n",
       "      <th>count</th>\n",
       "      <td>1500.000000</td>\n",
       "      <td>1500.000000</td>\n",
       "      <td>1500.000000</td>\n",
       "      <td>1500.000000</td>\n",
       "    </tr>\n",
       "    <tr>\n",
       "      <th>mean</th>\n",
       "      <td>0.593333</td>\n",
       "      <td>32.556000</td>\n",
       "      <td>4.977333</td>\n",
       "      <td>17.138907</td>\n",
       "    </tr>\n",
       "    <tr>\n",
       "      <th>std</th>\n",
       "      <td>0.491375</td>\n",
       "      <td>9.876769</td>\n",
       "      <td>1.486257</td>\n",
       "      <td>2.445566</td>\n",
       "    </tr>\n",
       "    <tr>\n",
       "      <th>min</th>\n",
       "      <td>0.000000</td>\n",
       "      <td>16.000000</td>\n",
       "      <td>1.000000</td>\n",
       "      <td>11.690000</td>\n",
       "    </tr>\n",
       "    <tr>\n",
       "      <th>25%</th>\n",
       "      <td>0.000000</td>\n",
       "      <td>24.000000</td>\n",
       "      <td>4.000000</td>\n",
       "      <td>15.320000</td>\n",
       "    </tr>\n",
       "    <tr>\n",
       "      <th>50%</th>\n",
       "      <td>1.000000</td>\n",
       "      <td>32.000000</td>\n",
       "      <td>5.000000</td>\n",
       "      <td>18.240000</td>\n",
       "    </tr>\n",
       "    <tr>\n",
       "      <th>75%</th>\n",
       "      <td>1.000000</td>\n",
       "      <td>41.000000</td>\n",
       "      <td>6.000000</td>\n",
       "      <td>18.840000</td>\n",
       "    </tr>\n",
       "    <tr>\n",
       "      <th>max</th>\n",
       "      <td>1.000000</td>\n",
       "      <td>50.000000</td>\n",
       "      <td>10.000000</td>\n",
       "      <td>22.760000</td>\n",
       "    </tr>\n",
       "  </tbody>\n",
       "</table>\n",
       "</div>"
      ],
      "text/plain": [
       "             owned  reviewer_age  value_for_money  overall_rating\n",
       "count  1500.000000   1500.000000      1500.000000     1500.000000\n",
       "mean      0.593333     32.556000         4.977333       17.138907\n",
       "std       0.491375      9.876769         1.486257        2.445566\n",
       "min       0.000000     16.000000         1.000000       11.690000\n",
       "25%       0.000000     24.000000         4.000000       15.320000\n",
       "50%       1.000000     32.000000         5.000000       18.240000\n",
       "75%       1.000000     41.000000         6.000000       18.840000\n",
       "max       1.000000     50.000000        10.000000       22.760000"
      ]
     },
     "execution_count": 48,
     "metadata": {},
     "output_type": "execute_result"
    }
   ],
   "source": [
    "# get rid of the /10 string in the value_for_money rating\n",
    "df[\"value_for_money\"] = (df[\"value_for_money\"].str.replace(\"/10\",\"\",regex=False).astype(int))\n",
    "df.info()\n",
    "df.describe()"
   ]
  },
  {
   "cell_type": "markdown",
   "metadata": {},
   "source": [
    "### Clean review_month column"
   ]
  },
  {
   "cell_type": "code",
   "execution_count": 60,
   "metadata": {},
   "outputs": [],
   "source": [
    "# detect the regExp for some review_month rows and get rid of dd- string to stay just\n",
    "# with the month\n",
    "df[\"review_month\"] = (df[\"review_month\"].str.replace(\"^\\d\\d-\",\"\", regex = True))"
   ]
  },
  {
   "cell_type": "code",
   "execution_count": 61,
   "metadata": {},
   "outputs": [
    {
     "data": {
      "text/plain": [
       "count    1500.000000\n",
       "mean       17.138907\n",
       "std         2.445566\n",
       "min        11.690000\n",
       "25%        15.320000\n",
       "50%        18.240000\n",
       "75%        18.840000\n",
       "max        22.760000\n",
       "Name: overall_rating, dtype: float64"
      ]
     },
     "execution_count": 61,
     "metadata": {},
     "output_type": "execute_result"
    }
   ],
   "source": [
    "df[\"overall_rating\"].describe()"
   ]
  },
  {
   "cell_type": "markdown",
   "metadata": {},
   "source": [
    "### Print the informations of the cleaned dataset"
   ]
  },
  {
   "cell_type": "markdown",
   "metadata": {},
   "source": [
    "### Informations"
   ]
  },
  {
   "cell_type": "code",
   "execution_count": 16,
   "metadata": {},
   "outputs": [
    {
     "name": "stdout",
     "output_type": "stream",
     "text": [
      "<class 'pandas.core.frame.DataFrame'>\n",
      "RangeIndex: 1500 entries, 0 to 1499\n",
      "Data columns (total 8 columns):\n",
      " #   Column           Non-Null Count  Dtype  \n",
      "---  ------           --------------  -----  \n",
      " 0   owned            1500 non-null   int64  \n",
      " 1   make_model       1500 non-null   object \n",
      " 2   review_month     1500 non-null   object \n",
      " 3   web_browser      1500 non-null   object \n",
      " 4   reviewer_age     1500 non-null   int32  \n",
      " 5   primary_use      1500 non-null   object \n",
      " 6   value_for_money  1500 non-null   int32  \n",
      " 7   overall_rating   1500 non-null   float64\n",
      "dtypes: float64(1), int32(2), int64(1), object(4)\n",
      "memory usage: 82.2+ KB\n"
     ]
    }
   ],
   "source": [
    "df.info()"
   ]
  },
  {
   "cell_type": "markdown",
   "metadata": {},
   "source": [
    "### Final Categorical variables"
   ]
  },
  {
   "cell_type": "code",
   "execution_count": 62,
   "metadata": {},
   "outputs": [
    {
     "name": "stdout",
     "output_type": "stream",
     "text": [
      "1    890\n",
      "0    610\n",
      "Name: owned, dtype: int64\n",
      "Nielah-Eyden     652\n",
      "Lunna-Eyden      329\n",
      "Lunna-Keetra     178\n",
      "Hoang-Keetra     124\n",
      "Hoang-Eyden      124\n",
      "Nielah-Keetra     93\n",
      "Name: make_model, dtype: int64\n",
      "Sep    141\n",
      "Mar    141\n",
      "May    138\n",
      "Nov    126\n",
      "Jan    126\n",
      "Oct    125\n",
      "Jun    124\n",
      "Apr    123\n",
      "Dec    117\n",
      "Feb    115\n",
      "Aug    114\n",
      "Jul    110\n",
      "Name: review_month, dtype: int64\n",
      "Chrome     698\n",
      "IE         239\n",
      "Firefox    233\n",
      "unknown    150\n",
      "Safari     133\n",
      "Opera       24\n",
      "Android     23\n",
      "Name: web_browser, dtype: int64\n",
      "Commuting    1095\n",
      "Leisure       405\n",
      "Name: primary_use, dtype: int64\n"
     ]
    }
   ],
   "source": [
    "cat = [\"owned\",\"make_model\",\"review_month\",\"web_browser\",\"primary_use\"]\n",
    "for col in cat:\n",
    "    print(df[col].value_counts())"
   ]
  },
  {
   "cell_type": "markdown",
   "metadata": {},
   "source": [
    "### Final Numerical variables"
   ]
  },
  {
   "cell_type": "code",
   "execution_count": 63,
   "metadata": {},
   "outputs": [
    {
     "data": {
      "text/html": [
       "<div>\n",
       "<style scoped>\n",
       "    .dataframe tbody tr th:only-of-type {\n",
       "        vertical-align: middle;\n",
       "    }\n",
       "\n",
       "    .dataframe tbody tr th {\n",
       "        vertical-align: top;\n",
       "    }\n",
       "\n",
       "    .dataframe thead th {\n",
       "        text-align: right;\n",
       "    }\n",
       "</style>\n",
       "<table border=\"1\" class=\"dataframe\">\n",
       "  <thead>\n",
       "    <tr style=\"text-align: right;\">\n",
       "      <th></th>\n",
       "      <th>owned</th>\n",
       "      <th>reviewer_age</th>\n",
       "      <th>value_for_money</th>\n",
       "      <th>overall_rating</th>\n",
       "    </tr>\n",
       "  </thead>\n",
       "  <tbody>\n",
       "    <tr>\n",
       "      <th>count</th>\n",
       "      <td>1500.000000</td>\n",
       "      <td>1500.000000</td>\n",
       "      <td>1500.000000</td>\n",
       "      <td>1500.000000</td>\n",
       "    </tr>\n",
       "    <tr>\n",
       "      <th>mean</th>\n",
       "      <td>0.593333</td>\n",
       "      <td>32.556000</td>\n",
       "      <td>4.977333</td>\n",
       "      <td>17.138907</td>\n",
       "    </tr>\n",
       "    <tr>\n",
       "      <th>std</th>\n",
       "      <td>0.491375</td>\n",
       "      <td>9.876769</td>\n",
       "      <td>1.486257</td>\n",
       "      <td>2.445566</td>\n",
       "    </tr>\n",
       "    <tr>\n",
       "      <th>min</th>\n",
       "      <td>0.000000</td>\n",
       "      <td>16.000000</td>\n",
       "      <td>1.000000</td>\n",
       "      <td>11.690000</td>\n",
       "    </tr>\n",
       "    <tr>\n",
       "      <th>25%</th>\n",
       "      <td>0.000000</td>\n",
       "      <td>24.000000</td>\n",
       "      <td>4.000000</td>\n",
       "      <td>15.320000</td>\n",
       "    </tr>\n",
       "    <tr>\n",
       "      <th>50%</th>\n",
       "      <td>1.000000</td>\n",
       "      <td>32.000000</td>\n",
       "      <td>5.000000</td>\n",
       "      <td>18.240000</td>\n",
       "    </tr>\n",
       "    <tr>\n",
       "      <th>75%</th>\n",
       "      <td>1.000000</td>\n",
       "      <td>41.000000</td>\n",
       "      <td>6.000000</td>\n",
       "      <td>18.840000</td>\n",
       "    </tr>\n",
       "    <tr>\n",
       "      <th>max</th>\n",
       "      <td>1.000000</td>\n",
       "      <td>50.000000</td>\n",
       "      <td>10.000000</td>\n",
       "      <td>22.760000</td>\n",
       "    </tr>\n",
       "  </tbody>\n",
       "</table>\n",
       "</div>"
      ],
      "text/plain": [
       "             owned  reviewer_age  value_for_money  overall_rating\n",
       "count  1500.000000   1500.000000      1500.000000     1500.000000\n",
       "mean      0.593333     32.556000         4.977333       17.138907\n",
       "std       0.491375      9.876769         1.486257        2.445566\n",
       "min       0.000000     16.000000         1.000000       11.690000\n",
       "25%       0.000000     24.000000         4.000000       15.320000\n",
       "50%       1.000000     32.000000         5.000000       18.240000\n",
       "75%       1.000000     41.000000         6.000000       18.840000\n",
       "max       1.000000     50.000000        10.000000       22.760000"
      ]
     },
     "execution_count": 63,
     "metadata": {},
     "output_type": "execute_result"
    }
   ],
   "source": [
    "df.describe()"
   ]
  },
  {
   "cell_type": "markdown",
   "metadata": {},
   "source": [
    "## Task 2"
   ]
  },
  {
   "cell_type": "code",
   "execution_count": 65,
   "metadata": {},
   "outputs": [],
   "source": [
    "import seaborn as sns\n",
    "import matplotlib.pyplot as plt\n",
    "import matplotlib.style as style"
   ]
  },
  {
   "cell_type": "code",
   "execution_count": 66,
   "metadata": {},
   "outputs": [
    {
     "data": {
      "image/png": "[encoded data removed]",
      "text/plain": [
       "<Figure size 432x288 with 1 Axes>"
      ]
     },
     "metadata": {},
     "output_type": "display_data"
    }
   ],
   "source": [
    "# Create a visualisation for reviews \n",
    "style.use('ggplot')\n",
    "sns.countplot(x = df[\"owned\"]).set(title=\"Graph 1 : The count of reviews\")\n",
    "plt.show()"
   ]
  },
  {
   "cell_type": "markdown",
   "metadata": {},
   "source": [
    "As shown in **Graph 1 : The count of reviews** , the most number of reviews are from owners. The \"owned\" class is not significantly larger that the \"non-owned\" so, we can conclude that the observations are balanced accross the two cateories."
   ]
  },
  {
   "cell_type": "markdown",
   "metadata": {},
   "source": [
    "## Task 3"
   ]
  },
  {
   "cell_type": "markdown",
   "metadata": {},
   "source": [
    "As shown **Graph 2 : The distribution of the overall rating** , the distribution is a bit closer to the normal distribution. Most of users have an over all rating score greater than 16."
   ]
  },
  {
   "cell_type": "code",
   "execution_count": 343,
   "metadata": {},
   "outputs": [
    {
     "data": {
      "text/plain": [
       "[Text(0.5, 1.0, 'Graph 2 : The distribution of the overall rating')]"
      ]
     },
     "execution_count": 343,
     "metadata": {},
     "output_type": "execute_result"
    },
    {
     "data": {
      "image/png": "[encoded data removed]",
      "text/plain": [
       "<Figure size 432x288 with 1 Axes>"
      ]
     },
     "metadata": {},
     "output_type": "display_data"
    }
   ],
   "source": [
    "sns.histplot(x = df[\"overall_rating\"]).set(title=\"Graph 2 : The distribution of the overall rating\")"
   ]
  },
  {
   "cell_type": "markdown",
   "metadata": {},
   "source": [
    "## Task 4 "
   ]
  },
  {
   "cell_type": "code",
   "execution_count": 344,
   "metadata": {},
   "outputs": [
    {
     "data": {
      "text/plain": [
       "count    890.000000\n",
       "mean      18.102461\n",
       "std        1.943137\n",
       "min       11.790000\n",
       "25%       17.177500\n",
       "50%       18.590000\n",
       "75%       19.217500\n",
       "max       22.760000\n",
       "Name: overall_rating, dtype: float64"
      ]
     },
     "execution_count": 344,
     "metadata": {},
     "output_type": "execute_result"
    }
   ],
   "source": [
    "df.loc[df[\"owned\"]==1,\"overall_rating\"].describe()"
   ]
  },
  {
   "cell_type": "code",
   "execution_count": 345,
   "metadata": {},
   "outputs": [
    {
     "data": {
      "text/plain": [
       "count    610.000000\n",
       "mean      15.733066\n",
       "std        2.423420\n",
       "min       11.690000\n",
       "25%       14.705000\n",
       "50%       15.490000\n",
       "75%       18.300000\n",
       "max       20.550000\n",
       "Name: overall_rating, dtype: float64"
      ]
     },
     "execution_count": 345,
     "metadata": {},
     "output_type": "execute_result"
    }
   ],
   "source": [
    "df.loc[df[\"owned\"]==0,\"overall_rating\"].describe()"
   ]
  },
  {
   "cell_type": "markdown",
   "metadata": {},
   "source": [
    "From **Graph 3 : The Boxplot between Overall Ratings and Owned**, les owned ont globalement ont une médiane plus grande d'environ 3 points que celle des non_owned. Les overall rating des non sont plus dispersées que celles des owned. Over all rating of owned have largest range. Tout porte à croire que le fait d'être owned a une influence sur le overall_rating, cependant ceci pourrait être aisement vérifié à l'aide d'un test statistique."
   ]
  },
  {
   "cell_type": "code",
   "execution_count": 346,
   "metadata": {},
   "outputs": [
    {
     "data": {
      "text/plain": [
       "[Text(0.5, 1.0, 'Graph 3 : The Boxplot between Overall Ratings and Owned')]"
      ]
     },
     "execution_count": 346,
     "metadata": {},
     "output_type": "execute_result"
    },
    {
     "data": {
      "image/png": "[encoded data removed]",
      "text/plain": [
       "<Figure size 432x288 with 1 Axes>"
      ]
     },
     "metadata": {},
     "output_type": "display_data"
    }
   ],
   "source": [
    "sns.boxplot(data=df, y = \"overall_rating\", x = \"owned\").set(title=\"Graph 3 : The Boxplot between Overall Ratings and Owned\")"
   ]
  },
  {
   "cell_type": "markdown",
   "metadata": {},
   "source": [
    "### Some verifications and changes to enable modeling\n",
    "\n",
    "Finaly to enable a good model fitting, I have made the following verifications and changes :\n",
    "\n",
    "1. Check autocorrelation between numerical variables.\n",
    "2. Perform normality tests on numerical variables to check if we can perform parametric tests on them.\n",
    "3. Perform some statiscal tests between **owned** and all the other features to get variables that can well explain the owned variable.\n",
    "4. Drop those for which the tests are not significants to clean the dataset.\n",
    "5. Convert all the categorical variables into numeric variables.\n",
    "\n",
    "We take $alpha$ = 0.05 threshold."
   ]
  },
  {
   "cell_type": "markdown",
   "metadata": {},
   "source": [
    "### 1. Check autocorrelations between numerical variables"
   ]
  },
  {
   "cell_type": "code",
   "execution_count": 347,
   "metadata": {},
   "outputs": [
    {
     "data": {
      "text/plain": [
       "<matplotlib.axes._subplots.AxesSubplot at 0x1d714957130>"
      ]
     },
     "execution_count": 347,
     "metadata": {},
     "output_type": "execute_result"
    },
    {
     "data": {
      "image/png": "[encoded data removed]",
      "text/plain": [
       "<Figure size 432x288 with 2 Axes>"
      ]
     },
     "metadata": {},
     "output_type": "display_data"
    }
   ],
   "source": [
    "num_vars = [\"reviewer_age\",\"value_for_money\",\"overall_rating\"]\n",
    "sns.set(rc = {'figure.figsize':(6,4)})\n",
    "sns.heatmap(df[num_vars].corr(), xticklabels=num_vars,\n",
    "                yticklabels=num_vars, cmap='coolwarm')"
   ]
  },
  {
   "cell_type": "markdown",
   "metadata": {},
   "source": [
    "Numerical variables are not autocorrelated."
   ]
  },
  {
   "cell_type": "code",
   "execution_count": 348,
   "metadata": {},
   "outputs": [],
   "source": [
    "# import pingouin for tests\n",
    "import pingouin as pg"
   ]
  },
  {
   "cell_type": "markdown",
   "metadata": {},
   "source": [
    "### 2. Perform normality tests on numerical variables"
   ]
  },
  {
   "cell_type": "code",
   "execution_count": 349,
   "metadata": {},
   "outputs": [
    {
     "data": {
      "text/html": [
       "<div>\n",
       "<style scoped>\n",
       "    .dataframe tbody tr th:only-of-type {\n",
       "        vertical-align: middle;\n",
       "    }\n",
       "\n",
       "    .dataframe tbody tr th {\n",
       "        vertical-align: top;\n",
       "    }\n",
       "\n",
       "    .dataframe thead th {\n",
       "        text-align: right;\n",
       "    }\n",
       "</style>\n",
       "<table border=\"1\" class=\"dataframe\">\n",
       "  <thead>\n",
       "    <tr style=\"text-align: right;\">\n",
       "      <th></th>\n",
       "      <th>W</th>\n",
       "      <th>pval</th>\n",
       "      <th>normal</th>\n",
       "    </tr>\n",
       "  </thead>\n",
       "  <tbody>\n",
       "    <tr>\n",
       "      <th>reviewer_age</th>\n",
       "      <td>0.956402</td>\n",
       "      <td>9.327250e-21</td>\n",
       "      <td>False</td>\n",
       "    </tr>\n",
       "  </tbody>\n",
       "</table>\n",
       "</div>"
      ],
      "text/plain": [
       "                     W          pval  normal\n",
       "reviewer_age  0.956402  9.327250e-21   False"
      ]
     },
     "execution_count": 349,
     "metadata": {},
     "output_type": "execute_result"
    }
   ],
   "source": [
    "pg.normality(df[\"reviewer_age\"])"
   ]
  },
  {
   "cell_type": "code",
   "execution_count": 350,
   "metadata": {},
   "outputs": [
    {
     "data": {
      "text/html": [
       "<div>\n",
       "<style scoped>\n",
       "    .dataframe tbody tr th:only-of-type {\n",
       "        vertical-align: middle;\n",
       "    }\n",
       "\n",
       "    .dataframe tbody tr th {\n",
       "        vertical-align: top;\n",
       "    }\n",
       "\n",
       "    .dataframe thead th {\n",
       "        text-align: right;\n",
       "    }\n",
       "</style>\n",
       "<table border=\"1\" class=\"dataframe\">\n",
       "  <thead>\n",
       "    <tr style=\"text-align: right;\">\n",
       "      <th></th>\n",
       "      <th>W</th>\n",
       "      <th>pval</th>\n",
       "      <th>normal</th>\n",
       "    </tr>\n",
       "  </thead>\n",
       "  <tbody>\n",
       "    <tr>\n",
       "      <th>value_for_money</th>\n",
       "      <td>0.961231</td>\n",
       "      <td>1.424556e-19</td>\n",
       "      <td>False</td>\n",
       "    </tr>\n",
       "  </tbody>\n",
       "</table>\n",
       "</div>"
      ],
      "text/plain": [
       "                        W          pval  normal\n",
       "value_for_money  0.961231  1.424556e-19   False"
      ]
     },
     "execution_count": 350,
     "metadata": {},
     "output_type": "execute_result"
    }
   ],
   "source": [
    "pg.normality(df[\"value_for_money\"])"
   ]
  },
  {
   "cell_type": "code",
   "execution_count": 351,
   "metadata": {},
   "outputs": [
    {
     "data": {
      "text/html": [
       "<div>\n",
       "<style scoped>\n",
       "    .dataframe tbody tr th:only-of-type {\n",
       "        vertical-align: middle;\n",
       "    }\n",
       "\n",
       "    .dataframe tbody tr th {\n",
       "        vertical-align: top;\n",
       "    }\n",
       "\n",
       "    .dataframe thead th {\n",
       "        text-align: right;\n",
       "    }\n",
       "</style>\n",
       "<table border=\"1\" class=\"dataframe\">\n",
       "  <thead>\n",
       "    <tr style=\"text-align: right;\">\n",
       "      <th></th>\n",
       "      <th>W</th>\n",
       "      <th>pval</th>\n",
       "      <th>normal</th>\n",
       "    </tr>\n",
       "  </thead>\n",
       "  <tbody>\n",
       "    <tr>\n",
       "      <th>overall_rating</th>\n",
       "      <td>0.925689</td>\n",
       "      <td>1.314713e-26</td>\n",
       "      <td>False</td>\n",
       "    </tr>\n",
       "  </tbody>\n",
       "</table>\n",
       "</div>"
      ],
      "text/plain": [
       "                       W          pval  normal\n",
       "overall_rating  0.925689  1.314713e-26   False"
      ]
     },
     "execution_count": 351,
     "metadata": {},
     "output_type": "execute_result"
    }
   ],
   "source": [
    "pg.normality(df[\"overall_rating\"])"
   ]
  },
  {
   "cell_type": "markdown",
   "metadata": {},
   "source": [
    "Numerical variables are not normaly distributed. So parametric tests are indicated here."
   ]
  },
  {
   "cell_type": "markdown",
   "metadata": {},
   "source": [
    "### 3.a Kruskal-Wallis test between numerical variables and owned variable"
   ]
  },
  {
   "cell_type": "code",
   "execution_count": 352,
   "metadata": {},
   "outputs": [
    {
     "data": {
      "text/html": [
       "<div>\n",
       "<style scoped>\n",
       "    .dataframe tbody tr th:only-of-type {\n",
       "        vertical-align: middle;\n",
       "    }\n",
       "\n",
       "    .dataframe tbody tr th {\n",
       "        vertical-align: top;\n",
       "    }\n",
       "\n",
       "    .dataframe thead th {\n",
       "        text-align: right;\n",
       "    }\n",
       "</style>\n",
       "<table border=\"1\" class=\"dataframe\">\n",
       "  <thead>\n",
       "    <tr style=\"text-align: right;\">\n",
       "      <th></th>\n",
       "      <th>Source</th>\n",
       "      <th>ddof1</th>\n",
       "      <th>H</th>\n",
       "      <th>p-unc</th>\n",
       "    </tr>\n",
       "  </thead>\n",
       "  <tbody>\n",
       "    <tr>\n",
       "      <th>Kruskal</th>\n",
       "      <td>owned</td>\n",
       "      <td>1</td>\n",
       "      <td>4.435815</td>\n",
       "      <td>0.035192</td>\n",
       "    </tr>\n",
       "  </tbody>\n",
       "</table>\n",
       "</div>"
      ],
      "text/plain": [
       "        Source  ddof1         H     p-unc\n",
       "Kruskal  owned      1  4.435815  0.035192"
      ]
     },
     "execution_count": 352,
     "metadata": {},
     "output_type": "execute_result"
    }
   ],
   "source": [
    "# reviewer_age and owned\n",
    "pg.kruskal(data = df, dv = \"reviewer_age\", between=\"owned\")"
   ]
  },
  {
   "cell_type": "markdown",
   "metadata": {},
   "source": [
    "We can support a difference of reviewer_age between the ratings of the two groups (owned and non_owned)."
   ]
  },
  {
   "cell_type": "code",
   "execution_count": 353,
   "metadata": {},
   "outputs": [
    {
     "data": {
      "text/html": [
       "<div>\n",
       "<style scoped>\n",
       "    .dataframe tbody tr th:only-of-type {\n",
       "        vertical-align: middle;\n",
       "    }\n",
       "\n",
       "    .dataframe tbody tr th {\n",
       "        vertical-align: top;\n",
       "    }\n",
       "\n",
       "    .dataframe thead th {\n",
       "        text-align: right;\n",
       "    }\n",
       "</style>\n",
       "<table border=\"1\" class=\"dataframe\">\n",
       "  <thead>\n",
       "    <tr style=\"text-align: right;\">\n",
       "      <th></th>\n",
       "      <th>Source</th>\n",
       "      <th>ddof1</th>\n",
       "      <th>H</th>\n",
       "      <th>p-unc</th>\n",
       "    </tr>\n",
       "  </thead>\n",
       "  <tbody>\n",
       "    <tr>\n",
       "      <th>Kruskal</th>\n",
       "      <td>owned</td>\n",
       "      <td>1</td>\n",
       "      <td>193.648263</td>\n",
       "      <td>5.081978e-44</td>\n",
       "    </tr>\n",
       "  </tbody>\n",
       "</table>\n",
       "</div>"
      ],
      "text/plain": [
       "        Source  ddof1           H         p-unc\n",
       "Kruskal  owned      1  193.648263  5.081978e-44"
      ]
     },
     "execution_count": 353,
     "metadata": {},
     "output_type": "execute_result"
    }
   ],
   "source": [
    "# value_for_money and owned\n",
    "pg.kruskal(data = df, dv = \"value_for_money\", between=\"owned\")"
   ]
  },
  {
   "cell_type": "markdown",
   "metadata": {},
   "source": [
    "We can support a difference of value_for_money between the ratings of the two groups (owned and non_owned)."
   ]
  },
  {
   "cell_type": "code",
   "execution_count": 354,
   "metadata": {},
   "outputs": [
    {
     "data": {
      "text/html": [
       "<div>\n",
       "<style scoped>\n",
       "    .dataframe tbody tr th:only-of-type {\n",
       "        vertical-align: middle;\n",
       "    }\n",
       "\n",
       "    .dataframe tbody tr th {\n",
       "        vertical-align: top;\n",
       "    }\n",
       "\n",
       "    .dataframe thead th {\n",
       "        text-align: right;\n",
       "    }\n",
       "</style>\n",
       "<table border=\"1\" class=\"dataframe\">\n",
       "  <thead>\n",
       "    <tr style=\"text-align: right;\">\n",
       "      <th></th>\n",
       "      <th>Source</th>\n",
       "      <th>ddof1</th>\n",
       "      <th>H</th>\n",
       "      <th>p-unc</th>\n",
       "    </tr>\n",
       "  </thead>\n",
       "  <tbody>\n",
       "    <tr>\n",
       "      <th>Kruskal</th>\n",
       "      <td>owned</td>\n",
       "      <td>1</td>\n",
       "      <td>340.22521</td>\n",
       "      <td>5.699333e-76</td>\n",
       "    </tr>\n",
       "  </tbody>\n",
       "</table>\n",
       "</div>"
      ],
      "text/plain": [
       "        Source  ddof1          H         p-unc\n",
       "Kruskal  owned      1  340.22521  5.699333e-76"
      ]
     },
     "execution_count": 354,
     "metadata": {},
     "output_type": "execute_result"
    }
   ],
   "source": [
    "# overall_rating and owned\n",
    "pg.kruskal(data = df, dv = \"overall_rating\", between=\"owned\")"
   ]
  },
  {
   "cell_type": "markdown",
   "metadata": {},
   "source": [
    "We can support a difference of overall_rating between the ratings of the two groups (owned and non_owned)."
   ]
  },
  {
   "cell_type": "markdown",
   "metadata": {},
   "source": [
    "### 3.b  Chi2 independence test on categorical variables"
   ]
  },
  {
   "cell_type": "code",
   "execution_count": 355,
   "metadata": {},
   "outputs": [
    {
     "name": "stdout",
     "output_type": "stream",
     "text": [
      "      test  lambda        chi2  dof          pval    cramer  power\n",
      "0  pearson     1.0  312.621544  5.0  1.934650e-65  0.456524    1.0\n"
     ]
    }
   ],
   "source": [
    "expected_mmodel, observed_mmodel, stats_mmodel = pg.chi2_independence(data = df, x=\"make_model\", y = \"owned\")\n",
    "print(stats_mmodel[stats_mmodel[\"test\"] == \"pearson\"])"
   ]
  },
  {
   "cell_type": "markdown",
   "metadata": {},
   "source": [
    " We can support that make_model and  **owned** are not independent."
   ]
  },
  {
   "cell_type": "code",
   "execution_count": 356,
   "metadata": {},
   "outputs": [
    {
     "name": "stdout",
     "output_type": "stream",
     "text": [
      "      test  lambda      chi2   dof      pval    cramer     power\n",
      "0  pearson     1.0  4.123823  11.0  0.966154  0.052433  0.211899\n"
     ]
    }
   ],
   "source": [
    "expected_rmonth, observed_rmonth, stats_rmonth = pg.chi2_independence(data = df, x=\"review_month\", y = \"owned\")\n",
    "print(stats_rmonth[stats_rmonth[\"test\"] == \"pearson\"])"
   ]
  },
  {
   "cell_type": "markdown",
   "metadata": {},
   "source": [
    "We can support that review_month and **owned** are independent."
   ]
  },
  {
   "cell_type": "code",
   "execution_count": 357,
   "metadata": {},
   "outputs": [
    {
     "name": "stdout",
     "output_type": "stream",
     "text": [
      "      test  lambda      chi2  dof      pval    cramer     power\n",
      "0  pearson     1.0  10.65958  6.0  0.099485  0.084299  0.677103\n"
     ]
    }
   ],
   "source": [
    "expected_wbrowser, observed_wbrowser, stats_wbrowser = pg.chi2_independence(data = df, x=\"web_browser\", y = \"owned\")\n",
    "print(stats_wbrowser[stats_wbrowser[\"test\"] == \"pearson\"])"
   ]
  },
  {
   "cell_type": "markdown",
   "metadata": {},
   "source": [
    "We can support that web_browser and **owned** are independent."
   ]
  },
  {
   "cell_type": "code",
   "execution_count": 358,
   "metadata": {},
   "outputs": [
    {
     "name": "stdout",
     "output_type": "stream",
     "text": [
      "      test  lambda       chi2  dof     pval    cramer     power\n",
      "0  pearson     1.0  11.627056  1.0  0.00065  0.088042  0.926454\n"
     ]
    }
   ],
   "source": [
    "expected_puse, observed_puse, stats_puse = pg.chi2_independence(data = df, x=\"primary_use\", y = \"owned\")\n",
    "print(stats_puse[stats_puse[\"test\"] == \"pearson\"])"
   ]
  },
  {
   "cell_type": "markdown",
   "metadata": {},
   "source": [
    "We can support that primary_use and **owned** are not independent."
   ]
  },
  {
   "cell_type": "markdown",
   "metadata": {},
   "source": [
    "### 4. Select the set of variables to use for the model"
   ]
  },
  {
   "cell_type": "markdown",
   "metadata": {},
   "source": [
    "Based on the previous statistical tests, the selected variables that we'll use to compute the model are : \n",
    "   1. reviewer_age.\n",
    "   2. value_for_money\n",
    "   3. overall_rating\n",
    "   4. make_model\n",
    "   5. primary_use"
   ]
  },
  {
   "cell_type": "code",
   "execution_count": 359,
   "metadata": {},
   "outputs": [],
   "source": [
    "# drop others variables\n",
    "df = df.drop(columns = [\"review_month\",\"web_browser\"])"
   ]
  },
  {
   "cell_type": "markdown",
   "metadata": {},
   "source": [
    "### 5. Convert categorical variables to numerical"
   ]
  },
  {
   "cell_type": "code",
   "execution_count": 360,
   "metadata": {},
   "outputs": [],
   "source": [
    "from sklearn import preprocessing\n",
    "features = df.drop(columns=\"owned\")\n",
    "X = pd.get_dummies(features, columns=[\"make_model\",\"primary_use\"])\n",
    "y = df[\"owned\"]"
   ]
  },
  {
   "cell_type": "markdown",
   "metadata": {},
   "source": [
    "## Task 5\n",
    "\n",
    "Predicting the wether a review came from an owner or not is a **classification** problem in Machine Learning."
   ]
  },
  {
   "cell_type": "code",
   "execution_count": 361,
   "metadata": {},
   "outputs": [],
   "source": [
    "# import ML models and performance metrics\n",
    "from sklearn.model_selection import train_test_split\n",
    "from sklearn.linear_model import LogisticRegression\n",
    "from sklearn.metrics import accuracy_score\n",
    "from sklearn.tree import DecisionTreeClassifier\n",
    "from sklearn.ensemble import RandomForestClassifier\n",
    "\n",
    "SEED = 1"
   ]
  },
  {
   "cell_type": "code",
   "execution_count": 362,
   "metadata": {},
   "outputs": [],
   "source": [
    "# Split dataset into 70% training set and 30% test set\n",
    "X_train, X_test, y_train, y_test = train_test_split(X,y, test_size=.3, random_state = SEED)"
   ]
  },
  {
   "cell_type": "markdown",
   "metadata": {},
   "source": [
    "## Task 6\n",
    "\n",
    "**Baseline model** - Decision tree classifier model"
   ]
  },
  {
   "cell_type": "code",
   "execution_count": 363,
   "metadata": {},
   "outputs": [],
   "source": [
    "dt_cls = DecisionTreeClassifier(random_state=SEED)\n",
    "dt_cls.fit(X_train, y_train)\n",
    "y_pred_dt_cls = dt_cls.predict(X_test)"
   ]
  },
  {
   "cell_type": "markdown",
   "metadata": {},
   "source": [
    "## Task 7\n",
    "\n",
    "**Comparison Model** - Random Forest Model for Classification tasks"
   ]
  },
  {
   "cell_type": "code",
   "execution_count": 364,
   "metadata": {},
   "outputs": [
    {
     "name": "stdout",
     "output_type": "stream",
     "text": [
      "0.7466666666666667\n"
     ]
    }
   ],
   "source": [
    "# Create a RandomForestClassifier model for comparison\n",
    "rf = RandomForestClassifier(n_estimators = 500, random_state=SEED)\n",
    "rf.fit(X_train, y_train)\n",
    "y_pred_rf = rf.predict(X_test)\n",
    "print(accuracy_score(y_test, y_pred_rf))"
   ]
  },
  {
   "cell_type": "code",
   "execution_count": 365,
   "metadata": {},
   "outputs": [],
   "source": [
    "from sklearn.linear_model import LogisticRegression\n",
    "from sklearn.tree import DecisionTreeClassifier\n",
    "from sklearn.neighbors import KNeighborsClassifier as KNN\n",
    "from sklearn.ensemble import VotingClassifier\n",
    "\n",
    "# Instanciate individual classifiers\n",
    "lr = LogisticRegression(random_state=SEED,solver=\"liblinear\")\n",
    "knn = KNN()\n",
    "dt = DecisionTreeClassifier(random_state=1)\n",
    "\n",
    "classifiers = [('Logistic Regression',lr),\n",
    "                ('K Nearest Neighbors', knn),\n",
    "               ('Classification Tree', dt)]\n",
    "\n",
    "# Create Voting classifier based on classifiers\n",
    "vc = VotingClassifier(estimators=classifiers)\n",
    "vc.fit(X_train, y_train)\n",
    "y_pred_vc = vc.predict(X_test)"
   ]
  },
  {
   "cell_type": "markdown",
   "metadata": {},
   "source": [
    "## Task 8\n",
    "\n",
    "I am choosing the **Decision Tree Classification Model** as a baseline model because it's simple and efficient to train and interpret, it's also able to capture non-linear relationships between features and labels. The comparison model I'm choosing is the **Voting Classifier Model** composed of : Logistic Regression, KNN and Decision Tree, because it can capture more complex relationship between input features and target variables and return us the best prediction based on different classifiers. "
   ]
  },
  {
   "cell_type": "markdown",
   "metadata": {},
   "source": [
    "## Task 9\n",
    "\n",
    "I'm chosing **accuracy score** to evaluate the model because it's commonly used and easy to interpret because it give us the percent of correct predictions made."
   ]
  },
  {
   "cell_type": "markdown",
   "metadata": {},
   "source": [
    "### Evaluating Logistic Regression Model"
   ]
  },
  {
   "cell_type": "code",
   "execution_count": 366,
   "metadata": {},
   "outputs": [
    {
     "name": "stdout",
     "output_type": "stream",
     "text": [
      "0.7022222222222222\n"
     ]
    }
   ],
   "source": [
    "print(accuracy_score(y_test, y_pred_dt_cls))"
   ]
  },
  {
   "cell_type": "markdown",
   "metadata": {},
   "source": [
    "### Evaluating Voting Model Classifier"
   ]
  },
  {
   "cell_type": "code",
   "execution_count": 367,
   "metadata": {},
   "outputs": [
    {
     "name": "stdout",
     "output_type": "stream",
     "text": [
      "0.7511111111111111\n"
     ]
    }
   ],
   "source": [
    "print(accuracy_score(y_test, y_pred_vc))"
   ]
  },
  {
   "cell_type": "markdown",
   "metadata": {},
   "source": [
    "## Task 10\n",
    "\n",
    "A greater accuracy value indicates the model has smaller errors in prediction.\n",
    "\n",
    "Thereforre, **Voting Classifier Model** is performing better at predicting whether a review came from an owner or not based on this metric."
   ]
  }
 ],
 "metadata": {
  "kernelspec": {
   "display_name": "Python 3",
   "language": "python",
   "name": "python3"
  },
  "language_info": {
   "codemirror_mode": {
    "name": "ipython",
    "version": 3
   },
   "file_extension": ".py",
   "mimetype": "text/x-python",
   "name": "python",
   "nbconvert_exporter": "python",
   "pygments_lexer": "ipython3",
   "version": "3.8.3"
  }
 },
 "nbformat": 4,
 "nbformat_minor": 4
}
