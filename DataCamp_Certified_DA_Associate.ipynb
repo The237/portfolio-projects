{
 "cells": [
  {
   "cell_type": "markdown",
   "metadata": {},
   "source": [
    "## Problem statement"
   ]
  },
  {
   "cell_type": "markdown",
   "metadata": {},
   "source": [
    "Vivendo is a fast food chain in Brazil with over 200 outlets.\n",
    "Customers often claim compensation from the company for food poisoning.\n",
    "The legal team processes these claims. The legal team has offices in four locations.\n",
    "The legal team wants to improve how long it takes to reply to customers and close claims.\n",
    "The head of the legal department wants a report on how each location differs in the time it takes to close claims."
   ]
  },
  {
   "cell_type": "markdown",
   "metadata": {},
   "source": [
    "## Import libraries / Data"
   ]
  },
  {
   "cell_type": "code",
   "execution_count": 42,
   "metadata": {},
   "outputs": [],
   "source": [
    "import pandas as pd\n",
    "import numpy as np\n",
    "import pingouin as pg\n",
    "import seaborn as sns\n",
    "import matplotlib.pyplot as plt\n",
    "import matplotlib.style as style"
   ]
  },
  {
   "cell_type": "code",
   "execution_count": 2,
   "metadata": {},
   "outputs": [],
   "source": [
    "df = pd.read_csv(\"data/food_claims_2212.csv\")"
   ]
  },
  {
   "cell_type": "code",
   "execution_count": 20,
   "metadata": {},
   "outputs": [
    {
     "data": {
      "text/plain": [
       "(2000, 8)"
      ]
     },
     "execution_count": 20,
     "metadata": {},
     "output_type": "execute_result"
    }
   ],
   "source": [
    "df.shape\n",
    "# Whe have 2000 rows and 8 variables"
   ]
  },
  {
   "cell_type": "code",
   "execution_count": null,
   "metadata": {},
   "outputs": [],
   "source": []
  },
  {
   "cell_type": "code",
   "execution_count": 3,
   "metadata": {},
   "outputs": [
    {
     "data": {
      "text/html": [
       "<div>\n",
       "<style scoped>\n",
       "    .dataframe tbody tr th:only-of-type {\n",
       "        vertical-align: middle;\n",
       "    }\n",
       "\n",
       "    .dataframe tbody tr th {\n",
       "        vertical-align: top;\n",
       "    }\n",
       "\n",
       "    .dataframe thead th {\n",
       "        text-align: right;\n",
       "    }\n",
       "</style>\n",
       "<table border=\"1\" class=\"dataframe\">\n",
       "  <thead>\n",
       "    <tr style=\"text-align: right;\">\n",
       "      <th></th>\n",
       "      <th>claim_id</th>\n",
       "      <th>time_to_close</th>\n",
       "      <th>claim_amount</th>\n",
       "      <th>amount_paid</th>\n",
       "      <th>location</th>\n",
       "      <th>individuals_on_claim</th>\n",
       "      <th>linked_cases</th>\n",
       "      <th>cause</th>\n",
       "    </tr>\n",
       "  </thead>\n",
       "  <tbody>\n",
       "    <tr>\n",
       "      <th>0</th>\n",
       "      <td>1</td>\n",
       "      <td>317</td>\n",
       "      <td>R$ 74474.55</td>\n",
       "      <td>51231.37</td>\n",
       "      <td>RECIFE</td>\n",
       "      <td>15</td>\n",
       "      <td>False</td>\n",
       "      <td>unknown</td>\n",
       "    </tr>\n",
       "    <tr>\n",
       "      <th>1</th>\n",
       "      <td>2</td>\n",
       "      <td>195</td>\n",
       "      <td>R$ 52137.83</td>\n",
       "      <td>42111.30</td>\n",
       "      <td>FORTALEZA</td>\n",
       "      <td>12</td>\n",
       "      <td>True</td>\n",
       "      <td>unknown</td>\n",
       "    </tr>\n",
       "    <tr>\n",
       "      <th>2</th>\n",
       "      <td>3</td>\n",
       "      <td>183</td>\n",
       "      <td>R$ 24447.2</td>\n",
       "      <td>23986.30</td>\n",
       "      <td>SAO LUIS</td>\n",
       "      <td>10</td>\n",
       "      <td>True</td>\n",
       "      <td>meat</td>\n",
       "    </tr>\n",
       "    <tr>\n",
       "      <th>3</th>\n",
       "      <td>4</td>\n",
       "      <td>186</td>\n",
       "      <td>R$ 29006.28</td>\n",
       "      <td>27942.72</td>\n",
       "      <td>FORTALEZA</td>\n",
       "      <td>11</td>\n",
       "      <td>False</td>\n",
       "      <td>meat</td>\n",
       "    </tr>\n",
       "    <tr>\n",
       "      <th>4</th>\n",
       "      <td>5</td>\n",
       "      <td>138</td>\n",
       "      <td>R$ 19520.6</td>\n",
       "      <td>16251.06</td>\n",
       "      <td>RECIFE</td>\n",
       "      <td>11</td>\n",
       "      <td>False</td>\n",
       "      <td>vegetable</td>\n",
       "    </tr>\n",
       "  </tbody>\n",
       "</table>\n",
       "</div>"
      ],
      "text/plain": [
       "   claim_id  time_to_close claim_amount  amount_paid   location  \\\n",
       "0         1            317  R$ 74474.55     51231.37     RECIFE   \n",
       "1         2            195  R$ 52137.83     42111.30  FORTALEZA   \n",
       "2         3            183   R$ 24447.2     23986.30   SAO LUIS   \n",
       "3         4            186  R$ 29006.28     27942.72  FORTALEZA   \n",
       "4         5            138   R$ 19520.6     16251.06     RECIFE   \n",
       "\n",
       "   individuals_on_claim linked_cases      cause  \n",
       "0                    15        False    unknown  \n",
       "1                    12         True    unknown  \n",
       "2                    10         True       meat  \n",
       "3                    11        False       meat  \n",
       "4                    11        False  vegetable  "
      ]
     },
     "execution_count": 3,
     "metadata": {},
     "output_type": "execute_result"
    }
   ],
   "source": [
    "df.head()"
   ]
  },
  {
   "cell_type": "code",
   "execution_count": 4,
   "metadata": {},
   "outputs": [
    {
     "data": {
      "text/plain": [
       "claim_id                 0\n",
       "time_to_close            0\n",
       "claim_amount             0\n",
       "amount_paid             36\n",
       "location                 0\n",
       "individuals_on_claim     0\n",
       "linked_cases            26\n",
       "cause                    0\n",
       "dtype: int64"
      ]
     },
     "execution_count": 4,
     "metadata": {},
     "output_type": "execute_result"
    }
   ],
   "source": [
    "df.isnull().sum()"
   ]
  },
  {
   "cell_type": "code",
   "execution_count": 6,
   "metadata": {},
   "outputs": [
    {
     "name": "stdout",
     "output_type": "stream",
     "text": [
      "<class 'pandas.core.frame.DataFrame'>\n",
      "RangeIndex: 2000 entries, 0 to 1999\n",
      "Data columns (total 8 columns):\n",
      " #   Column                Non-Null Count  Dtype  \n",
      "---  ------                --------------  -----  \n",
      " 0   claim_id              2000 non-null   int64  \n",
      " 1   time_to_close         2000 non-null   int64  \n",
      " 2   claim_amount          2000 non-null   object \n",
      " 3   amount_paid           1964 non-null   float64\n",
      " 4   location              2000 non-null   object \n",
      " 5   individuals_on_claim  2000 non-null   int64  \n",
      " 6   linked_cases          1974 non-null   object \n",
      " 7   cause                 2000 non-null   object \n",
      "dtypes: float64(1), int64(3), object(4)\n",
      "memory usage: 125.1+ KB\n"
     ]
    }
   ],
   "source": [
    "df.info()"
   ]
  },
  {
   "cell_type": "code",
   "execution_count": 9,
   "metadata": {},
   "outputs": [
    {
     "data": {
      "text/html": [
       "<div>\n",
       "<style scoped>\n",
       "    .dataframe tbody tr th:only-of-type {\n",
       "        vertical-align: middle;\n",
       "    }\n",
       "\n",
       "    .dataframe tbody tr th {\n",
       "        vertical-align: top;\n",
       "    }\n",
       "\n",
       "    .dataframe thead th {\n",
       "        text-align: right;\n",
       "    }\n",
       "</style>\n",
       "<table border=\"1\" class=\"dataframe\">\n",
       "  <thead>\n",
       "    <tr style=\"text-align: right;\">\n",
       "      <th></th>\n",
       "      <th>claim_id</th>\n",
       "      <th>time_to_close</th>\n",
       "      <th>amount_paid</th>\n",
       "      <th>individuals_on_claim</th>\n",
       "    </tr>\n",
       "  </thead>\n",
       "  <tbody>\n",
       "    <tr>\n",
       "      <th>count</th>\n",
       "      <td>2000.000000</td>\n",
       "      <td>2000.00000</td>\n",
       "      <td>1964.000000</td>\n",
       "      <td>2000.000000</td>\n",
       "    </tr>\n",
       "    <tr>\n",
       "      <th>mean</th>\n",
       "      <td>1000.500000</td>\n",
       "      <td>185.56800</td>\n",
       "      <td>21541.975183</td>\n",
       "      <td>8.049500</td>\n",
       "    </tr>\n",
       "    <tr>\n",
       "      <th>std</th>\n",
       "      <td>577.494589</td>\n",
       "      <td>49.16339</td>\n",
       "      <td>12530.156509</td>\n",
       "      <td>4.087347</td>\n",
       "    </tr>\n",
       "    <tr>\n",
       "      <th>min</th>\n",
       "      <td>1.000000</td>\n",
       "      <td>76.00000</td>\n",
       "      <td>1516.720000</td>\n",
       "      <td>1.000000</td>\n",
       "    </tr>\n",
       "    <tr>\n",
       "      <th>25%</th>\n",
       "      <td>500.750000</td>\n",
       "      <td>158.00000</td>\n",
       "      <td>10995.950000</td>\n",
       "      <td>4.000000</td>\n",
       "    </tr>\n",
       "    <tr>\n",
       "      <th>50%</th>\n",
       "      <td>1000.500000</td>\n",
       "      <td>179.00000</td>\n",
       "      <td>20105.700000</td>\n",
       "      <td>8.000000</td>\n",
       "    </tr>\n",
       "    <tr>\n",
       "      <th>75%</th>\n",
       "      <td>1500.250000</td>\n",
       "      <td>204.00000</td>\n",
       "      <td>30709.350000</td>\n",
       "      <td>12.000000</td>\n",
       "    </tr>\n",
       "    <tr>\n",
       "      <th>max</th>\n",
       "      <td>2000.000000</td>\n",
       "      <td>518.00000</td>\n",
       "      <td>52498.750000</td>\n",
       "      <td>15.000000</td>\n",
       "    </tr>\n",
       "  </tbody>\n",
       "</table>\n",
       "</div>"
      ],
      "text/plain": [
       "          claim_id  time_to_close   amount_paid  individuals_on_claim\n",
       "count  2000.000000     2000.00000   1964.000000           2000.000000\n",
       "mean   1000.500000      185.56800  21541.975183              8.049500\n",
       "std     577.494589       49.16339  12530.156509              4.087347\n",
       "min       1.000000       76.00000   1516.720000              1.000000\n",
       "25%     500.750000      158.00000  10995.950000              4.000000\n",
       "50%    1000.500000      179.00000  20105.700000              8.000000\n",
       "75%    1500.250000      204.00000  30709.350000             12.000000\n",
       "max    2000.000000      518.00000  52498.750000             15.000000"
      ]
     },
     "execution_count": 9,
     "metadata": {},
     "output_type": "execute_result"
    }
   ],
   "source": [
    "df.describe()"
   ]
  },
  {
   "cell_type": "markdown",
   "metadata": {},
   "source": [
    "## Task 1 : Check columns data quality"
   ]
  },
  {
   "cell_type": "markdown",
   "metadata": {},
   "source": [
    "**claim_id** : No missing values due to the database structure.\n",
    "\n",
    "**time_to_close** : No missing values and no changes made to this column.\n",
    "\n",
    "**claim_amount** : No missing values, but we needed the transform values for them to meet the description, by removing the R$* monetary symbol.\n",
    "\n",
    "**amount_paid** : There were 36 missing values and we have to replace them with the median.\n",
    "\n",
    "**location** : There were no missing values for that colum and the values provided by the description where exactly the same. No changes needed.\n",
    "\n",
    "**individuals_on_claim** : there are no missing values and the min value was effectivelly 1 as provided by the description. No changes needed.\n",
    "\n",
    "**linked_cases**: There were 26 missing values. So they were replaced with the value False. \n",
    "\n",
    "**cause** : No missing values here, but some of them were not matching the description provided so we replaced them whith the correct ones."
   ]
  },
  {
   "cell_type": "code",
   "execution_count": 8,
   "metadata": {},
   "outputs": [
    {
     "data": {
      "text/plain": [
       "0"
      ]
     },
     "execution_count": 8,
     "metadata": {},
     "output_type": "execute_result"
    }
   ],
   "source": [
    "# time_to_close\n",
    "df[\"time_to_close\"].isna().sum()\n",
    "# the are no missing values. No changes made to this column"
   ]
  },
  {
   "cell_type": "code",
   "execution_count": 12,
   "metadata": {},
   "outputs": [],
   "source": [
    "# there were no missing values but we need the transform that values for them to meet the description\n",
    "df[\"claim_amount\"] = df[\"claim_amount\"].str.replace(\"R$ \",\"\", regex = False).astype(float)"
   ]
  },
  {
   "cell_type": "code",
   "execution_count": 21,
   "metadata": {},
   "outputs": [],
   "source": [
    "# there were 36 missing values and we have to replace them with the median\n",
    "df[\"amount_paid\"].isna().sum()\n",
    "med = np.nanmedian(df[\"amount_paid\"])\n",
    "df.loc[df[\"amount_paid\"].isna(),\"amount_paid\"] = med"
   ]
  },
  {
   "cell_type": "code",
   "execution_count": 26,
   "metadata": {},
   "outputs": [
    {
     "data": {
      "text/plain": [
       "{'FORTALEZA', 'NATAL', 'RECIFE', 'SAO LUIS'}"
      ]
     },
     "execution_count": 26,
     "metadata": {},
     "output_type": "execute_result"
    }
   ],
   "source": [
    "# there were no missing values for that colum and the values provided by the description where exactly the same\n",
    "set(df[\"location\"])"
   ]
  },
  {
   "cell_type": "code",
   "execution_count": 28,
   "metadata": {},
   "outputs": [
    {
     "data": {
      "text/plain": [
       "count    2000.000000\n",
       "mean        8.049500\n",
       "std         4.087347\n",
       "min         1.000000\n",
       "25%         4.000000\n",
       "50%         8.000000\n",
       "75%        12.000000\n",
       "max        15.000000\n",
       "Name: individuals_on_claim, dtype: float64"
      ]
     },
     "execution_count": 28,
     "metadata": {},
     "output_type": "execute_result"
    }
   ],
   "source": [
    "# there are no missing values and the min value was effectivelly 1 as provided by the description\n",
    "df[\"individuals_on_claim\"].describe()"
   ]
  },
  {
   "cell_type": "code",
   "execution_count": 31,
   "metadata": {},
   "outputs": [
    {
     "data": {
      "text/plain": [
       "{False, True, nan}"
      ]
     },
     "execution_count": 31,
     "metadata": {},
     "output_type": "execute_result"
    }
   ],
   "source": [
    "set(df[\"linked_cases\"])"
   ]
  },
  {
   "cell_type": "code",
   "execution_count": 32,
   "metadata": {},
   "outputs": [],
   "source": [
    "# There were 26 missing values. So they were replaced with the value False\n",
    "df.loc[df[\"linked_cases\"].isna(), \"linked_cases\"] = False"
   ]
  },
  {
   "cell_type": "code",
   "execution_count": 39,
   "metadata": {},
   "outputs": [],
   "source": [
    "# No missing values here, but some of them were not matching the description\n",
    "# provided so we replaced them whith the correct ones\n",
    "df[\"cause\"] = df[\"cause\"].str.replace(\"Meat\",\"meat\")\n",
    "df[\"cause\"] = df[\"cause\"].str.replace(\"VEGETABLES\",\"vegetable\")\n",
    "df[\"cause\"] = df[\"cause\"].str.replace(\" meat\",\"meat\")"
   ]
  },
  {
   "cell_type": "code",
   "execution_count": 40,
   "metadata": {},
   "outputs": [
    {
     "data": {
      "text/plain": [
       "{'meat', 'unknown', 'vegetable'}"
      ]
     },
     "execution_count": 40,
     "metadata": {},
     "output_type": "execute_result"
    }
   ],
   "source": [
    "# No the column match the description provided\n",
    "set(df[\"cause\"])"
   ]
  },
  {
   "cell_type": "markdown",
   "metadata": {},
   "source": [
    "## Task 2 : Create a visualization that shows the number of claims in each location"
   ]
  },
  {
   "cell_type": "code",
   "execution_count": 45,
   "metadata": {},
   "outputs": [
    {
     "data": {
      "image/png": "[encoded data removed]",
      "text/plain": [
       "<Figure size 432x288 with 1 Axes>"
      ]
     },
     "metadata": {},
     "output_type": "display_data"
    }
   ],
   "source": [
    "style.use('ggplot')\n",
    "sns.countplot(x = df[\"location\"]).set(title=\"Graph 1 : Number of claims per location\")\n",
    "plt.show()"
   ]
  },
  {
   "cell_type": "markdown",
   "metadata": {},
   "source": [
    "There are four possible locatons in this data. The most common is **RECIFE**, with **SAO LUIS** being the second. The location categories are unbalanced, with most observations being either **RECIFE** or **SAO LUIS**. The legal team shoykd focus on improving how long it takes to reply to customers and close claims in that two locations as they are more common."
   ]
  },
  {
   "cell_type": "markdown",
   "metadata": {},
   "source": [
    "## Task 3 : Describe the distribution of time to close for all claims"
   ]
  },
  {
   "cell_type": "markdown",
   "metadata": {},
   "source": [
    "Looking at the graph below, we can see that most of the claims where closed between approximately 15O days and 250 days.\n",
    "The distribution of the time to close a claim is a bit right skewed. There a are some outliers claims that take more that 400 days to get closed. \n",
    "When looking for claims that time to close needs to be improved, the team should aim for claims having over 250 days, but be aware they may need to work with 200 days or more."
   ]
  },
  {
   "cell_type": "code",
   "execution_count": 54,
   "metadata": {},
   "outputs": [
    {
     "data": {
      "image/png": "[encoded data removed]",
      "text/plain": [
       "<Figure size 576x360 with 1 Axes>"
      ]
     },
     "metadata": {},
     "output_type": "display_data"
    }
   ],
   "source": [
    "plt.figure(figsize=(8,5))\n",
    "sns.histplot(x = df[\"time_to_close\"]).set(title=\"Graph 2 : The distribution of the time to close the claim\")\n",
    "plt.xlabel(\"Time to close the claim\");"
   ]
  },
  {
   "cell_type": "markdown",
   "metadata": {},
   "source": [
    "## Task 4 : Describe the relationship between time to close and location"
   ]
  },
  {
   "cell_type": "markdown",
   "metadata": {},
   "source": [
    "Finally we want to combine the two pieces of information to see how the location impacts the time to close a claim. In order to see whether or no the number of claims in a given location impacts on the distribution of the time to close the claim in that location.\n",
    "When looking at the graph below, we can see that the the distributions of the time to close the claim is not so different in each Location.\n",
    "The Kruskal test was made to check whether the time to close a claim differs significantly according to the locations."
   ]
  },
  {
   "cell_type": "code",
   "execution_count": 82,
   "metadata": {},
   "outputs": [
    {
     "data": {
      "text/html": [
       "<div>\n",
       "<style scoped>\n",
       "    .dataframe tbody tr th:only-of-type {\n",
       "        vertical-align: middle;\n",
       "    }\n",
       "\n",
       "    .dataframe tbody tr th {\n",
       "        vertical-align: top;\n",
       "    }\n",
       "\n",
       "    .dataframe thead th {\n",
       "        text-align: right;\n",
       "    }\n",
       "</style>\n",
       "<table border=\"1\" class=\"dataframe\">\n",
       "  <thead>\n",
       "    <tr style=\"text-align: right;\">\n",
       "      <th></th>\n",
       "      <th>Source</th>\n",
       "      <th>ddof1</th>\n",
       "      <th>H</th>\n",
       "      <th>p-unc</th>\n",
       "    </tr>\n",
       "  </thead>\n",
       "  <tbody>\n",
       "    <tr>\n",
       "      <th>Kruskal</th>\n",
       "      <td>location</td>\n",
       "      <td>3</td>\n",
       "      <td>1.153223</td>\n",
       "      <td>0.764244</td>\n",
       "    </tr>\n",
       "  </tbody>\n",
       "</table>\n",
       "</div>"
      ],
      "text/plain": [
       "           Source  ddof1         H     p-unc\n",
       "Kruskal  location      3  1.153223  0.764244"
      ]
     },
     "execution_count": 82,
     "metadata": {},
     "output_type": "execute_result"
    }
   ],
   "source": [
    "pg.kruskal(data=df, dv=\"time_to_close\", between=\"location\")"
   ]
  },
  {
   "cell_type": "code",
   "execution_count": 83,
   "metadata": {},
   "outputs": [
    {
     "data": {
      "image/png": "[encoded data removed]",
      "text/plain": [
       "<Figure size 576x360 with 1 Axes>"
      ]
     },
     "metadata": {},
     "output_type": "display_data"
    }
   ],
   "source": [
    "plt.figure(figsize=(8,5))\n",
    "sns.boxplot(data=df, x=\"location\", y = \"time_to_close\").set(title=\"Graph 3 : Time to close the claim per location (p-value >0.05)\")\n",
    "plt.xlabel(\"Location\")\n",
    "plt.ylabel(\"Time to close the claim\");"
   ]
  },
  {
   "cell_type": "code",
   "execution_count": null,
   "metadata": {},
   "outputs": [],
   "source": []
  }
 ],
 "metadata": {
  "kernelspec": {
   "display_name": "Python 3",
   "language": "python",
   "name": "python3"
  },
  "language_info": {
   "codemirror_mode": {
    "name": "ipython",
    "version": 3
   },
   "file_extension": ".py",
   "mimetype": "text/x-python",
   "name": "python",
   "nbconvert_exporter": "python",
   "pygments_lexer": "ipython3",
   "version": "3.8.3"
  }
 },
 "nbformat": 4,
 "nbformat_minor": 4
}
